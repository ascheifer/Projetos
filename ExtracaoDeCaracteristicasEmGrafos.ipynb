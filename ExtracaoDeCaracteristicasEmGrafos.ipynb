{
  "nbformat": 4,
  "nbformat_minor": 0,
  "metadata": {
    "colab": {
      "provenance": [],
      "mount_file_id": "1o0AcIcSCtJ7K-d2rENrPKKEtDTySOt4J",
      "authorship_tag": "ABX9TyNfN5lWSd9WqAK3SN1sovmN",
      "include_colab_link": true
    },
    "kernelspec": {
      "name": "python3",
      "display_name": "Python 3"
    },
    "language_info": {
      "name": "python"
    }
  },
  "cells": [
    {
      "cell_type": "markdown",
      "metadata": {
        "id": "view-in-github",
        "colab_type": "text"
      },
      "source": [
        "<a href=\"https://colab.research.google.com/github/ascheifer/ascheifer/blob/main/ExtracaoDeCaracteristicasEmGrafos.ipynb\" target=\"_parent\"><img src=\"https://colab.research.google.com/assets/colab-badge.svg\" alt=\"Open In Colab\"/></a>"
      ]
    },
    {
      "cell_type": "markdown",
      "source": [
        "# Análise de Dados em Python - Extração de Características em Grafos "
      ],
      "metadata": {
        "id": "Qv6tnYd7K7is"
      }
    },
    {
      "cell_type": "code",
      "source": [
        "# Importando as bibliotecas necessárias:\n",
        "import networkx as nx\n",
        "import matplotlib.pyplot as plt\n",
        "import pandas as pd\n",
        "import numpy as np\n",
        "from networkx.classes.function import is_directed"
      ],
      "metadata": {
        "id": "W5-LStBqMmiI"
      },
      "execution_count": null,
      "outputs": []
    },
    {
      "cell_type": "markdown",
      "source": [
        "#### 1. Crie um grafo G considerando os vértices e arestas armazenados no arquivo Grafo3.csv. Verifique se o grafo é direcionado e apresente a resposta na tela (True ou False)."
      ],
      "metadata": {
        "id": "Y7UdZkI-LYrX"
      }
    },
    {
      "cell_type": "code",
      "execution_count": null,
      "metadata": {
        "colab": {
          "base_uri": "https://localhost:8080/",
          "height": 424
        },
        "id": "H3KQ4H3cK0Pi",
        "outputId": "dc83adf7-74d4-4baf-eb6b-e26282dda031"
      },
      "outputs": [
        {
          "output_type": "execute_result",
          "data": {
            "text/plain": [
              "     0    1    2    3    4    5    6    7    8    9    ...  502  503  504  \\\n",
              "0      0    0    0    0    0    0    0    0    0    0  ...    0    0    0   \n",
              "1      0    0    1    0    0    0    0    0    0    0  ...    0    0    0   \n",
              "2      0    1    0    0    0    0    0    0    0    0  ...    0    0    0   \n",
              "3      0    0    0    0    1    0    0    0    0    0  ...    0    0    0   \n",
              "4      0    0    0    1    0    0    0    0    0    0  ...    0    0    0   \n",
              "..   ...  ...  ...  ...  ...  ...  ...  ...  ...  ...  ...  ...  ...  ...   \n",
              "507    0    0    0    0    0    0    0    0    0    0  ...    0    0    0   \n",
              "508    0    0    0    0    0    0    0    0    0    0  ...    0    0    0   \n",
              "509    0    0    0    0    0    0    0    0    0    0  ...    0    0    0   \n",
              "510    0    0    0    0    0    0    0    0    0    0  ...    0    0    0   \n",
              "511    0    0    0    0    0    0    0    0    0    0  ...    0    0    0   \n",
              "\n",
              "     505  506  507  508  509  510  511  \n",
              "0      0    0    0    0    0    0    0  \n",
              "1      0    0    0    0    0    0    0  \n",
              "2      0    0    0    0    0    0    0  \n",
              "3      0    0    0    0    0    0    0  \n",
              "4      0    0    0    0    0    0    0  \n",
              "..   ...  ...  ...  ...  ...  ...  ...  \n",
              "507    0    0    0    0    0    0    0  \n",
              "508    0    0    0    0    0    0    0  \n",
              "509    0    0    0    0    0    1    0  \n",
              "510    0    0    0    0    1    0    0  \n",
              "511    0    0    0    0    0    0    0  \n",
              "\n",
              "[512 rows x 512 columns]"
            ],
            "text/html": [
              "\n",
              "  <div id=\"df-2836c456-e053-43d5-abaf-94f8563a0d26\">\n",
              "    <div class=\"colab-df-container\">\n",
              "      <div>\n",
              "<style scoped>\n",
              "    .dataframe tbody tr th:only-of-type {\n",
              "        vertical-align: middle;\n",
              "    }\n",
              "\n",
              "    .dataframe tbody tr th {\n",
              "        vertical-align: top;\n",
              "    }\n",
              "\n",
              "    .dataframe thead th {\n",
              "        text-align: right;\n",
              "    }\n",
              "</style>\n",
              "<table border=\"1\" class=\"dataframe\">\n",
              "  <thead>\n",
              "    <tr style=\"text-align: right;\">\n",
              "      <th></th>\n",
              "      <th>0</th>\n",
              "      <th>1</th>\n",
              "      <th>2</th>\n",
              "      <th>3</th>\n",
              "      <th>4</th>\n",
              "      <th>5</th>\n",
              "      <th>6</th>\n",
              "      <th>7</th>\n",
              "      <th>8</th>\n",
              "      <th>9</th>\n",
              "      <th>...</th>\n",
              "      <th>502</th>\n",
              "      <th>503</th>\n",
              "      <th>504</th>\n",
              "      <th>505</th>\n",
              "      <th>506</th>\n",
              "      <th>507</th>\n",
              "      <th>508</th>\n",
              "      <th>509</th>\n",
              "      <th>510</th>\n",
              "      <th>511</th>\n",
              "    </tr>\n",
              "  </thead>\n",
              "  <tbody>\n",
              "    <tr>\n",
              "      <th>0</th>\n",
              "      <td>0</td>\n",
              "      <td>0</td>\n",
              "      <td>0</td>\n",
              "      <td>0</td>\n",
              "      <td>0</td>\n",
              "      <td>0</td>\n",
              "      <td>0</td>\n",
              "      <td>0</td>\n",
              "      <td>0</td>\n",
              "      <td>0</td>\n",
              "      <td>...</td>\n",
              "      <td>0</td>\n",
              "      <td>0</td>\n",
              "      <td>0</td>\n",
              "      <td>0</td>\n",
              "      <td>0</td>\n",
              "      <td>0</td>\n",
              "      <td>0</td>\n",
              "      <td>0</td>\n",
              "      <td>0</td>\n",
              "      <td>0</td>\n",
              "    </tr>\n",
              "    <tr>\n",
              "      <th>1</th>\n",
              "      <td>0</td>\n",
              "      <td>0</td>\n",
              "      <td>1</td>\n",
              "      <td>0</td>\n",
              "      <td>0</td>\n",
              "      <td>0</td>\n",
              "      <td>0</td>\n",
              "      <td>0</td>\n",
              "      <td>0</td>\n",
              "      <td>0</td>\n",
              "      <td>...</td>\n",
              "      <td>0</td>\n",
              "      <td>0</td>\n",
              "      <td>0</td>\n",
              "      <td>0</td>\n",
              "      <td>0</td>\n",
              "      <td>0</td>\n",
              "      <td>0</td>\n",
              "      <td>0</td>\n",
              "      <td>0</td>\n",
              "      <td>0</td>\n",
              "    </tr>\n",
              "    <tr>\n",
              "      <th>2</th>\n",
              "      <td>0</td>\n",
              "      <td>1</td>\n",
              "      <td>0</td>\n",
              "      <td>0</td>\n",
              "      <td>0</td>\n",
              "      <td>0</td>\n",
              "      <td>0</td>\n",
              "      <td>0</td>\n",
              "      <td>0</td>\n",
              "      <td>0</td>\n",
              "      <td>...</td>\n",
              "      <td>0</td>\n",
              "      <td>0</td>\n",
              "      <td>0</td>\n",
              "      <td>0</td>\n",
              "      <td>0</td>\n",
              "      <td>0</td>\n",
              "      <td>0</td>\n",
              "      <td>0</td>\n",
              "      <td>0</td>\n",
              "      <td>0</td>\n",
              "    </tr>\n",
              "    <tr>\n",
              "      <th>3</th>\n",
              "      <td>0</td>\n",
              "      <td>0</td>\n",
              "      <td>0</td>\n",
              "      <td>0</td>\n",
              "      <td>1</td>\n",
              "      <td>0</td>\n",
              "      <td>0</td>\n",
              "      <td>0</td>\n",
              "      <td>0</td>\n",
              "      <td>0</td>\n",
              "      <td>...</td>\n",
              "      <td>0</td>\n",
              "      <td>0</td>\n",
              "      <td>0</td>\n",
              "      <td>0</td>\n",
              "      <td>0</td>\n",
              "      <td>0</td>\n",
              "      <td>0</td>\n",
              "      <td>0</td>\n",
              "      <td>0</td>\n",
              "      <td>0</td>\n",
              "    </tr>\n",
              "    <tr>\n",
              "      <th>4</th>\n",
              "      <td>0</td>\n",
              "      <td>0</td>\n",
              "      <td>0</td>\n",
              "      <td>1</td>\n",
              "      <td>0</td>\n",
              "      <td>0</td>\n",
              "      <td>0</td>\n",
              "      <td>0</td>\n",
              "      <td>0</td>\n",
              "      <td>0</td>\n",
              "      <td>...</td>\n",
              "      <td>0</td>\n",
              "      <td>0</td>\n",
              "      <td>0</td>\n",
              "      <td>0</td>\n",
              "      <td>0</td>\n",
              "      <td>0</td>\n",
              "      <td>0</td>\n",
              "      <td>0</td>\n",
              "      <td>0</td>\n",
              "      <td>0</td>\n",
              "    </tr>\n",
              "    <tr>\n",
              "      <th>...</th>\n",
              "      <td>...</td>\n",
              "      <td>...</td>\n",
              "      <td>...</td>\n",
              "      <td>...</td>\n",
              "      <td>...</td>\n",
              "      <td>...</td>\n",
              "      <td>...</td>\n",
              "      <td>...</td>\n",
              "      <td>...</td>\n",
              "      <td>...</td>\n",
              "      <td>...</td>\n",
              "      <td>...</td>\n",
              "      <td>...</td>\n",
              "      <td>...</td>\n",
              "      <td>...</td>\n",
              "      <td>...</td>\n",
              "      <td>...</td>\n",
              "      <td>...</td>\n",
              "      <td>...</td>\n",
              "      <td>...</td>\n",
              "      <td>...</td>\n",
              "    </tr>\n",
              "    <tr>\n",
              "      <th>507</th>\n",
              "      <td>0</td>\n",
              "      <td>0</td>\n",
              "      <td>0</td>\n",
              "      <td>0</td>\n",
              "      <td>0</td>\n",
              "      <td>0</td>\n",
              "      <td>0</td>\n",
              "      <td>0</td>\n",
              "      <td>0</td>\n",
              "      <td>0</td>\n",
              "      <td>...</td>\n",
              "      <td>0</td>\n",
              "      <td>0</td>\n",
              "      <td>0</td>\n",
              "      <td>0</td>\n",
              "      <td>0</td>\n",
              "      <td>0</td>\n",
              "      <td>0</td>\n",
              "      <td>0</td>\n",
              "      <td>0</td>\n",
              "      <td>0</td>\n",
              "    </tr>\n",
              "    <tr>\n",
              "      <th>508</th>\n",
              "      <td>0</td>\n",
              "      <td>0</td>\n",
              "      <td>0</td>\n",
              "      <td>0</td>\n",
              "      <td>0</td>\n",
              "      <td>0</td>\n",
              "      <td>0</td>\n",
              "      <td>0</td>\n",
              "      <td>0</td>\n",
              "      <td>0</td>\n",
              "      <td>...</td>\n",
              "      <td>0</td>\n",
              "      <td>0</td>\n",
              "      <td>0</td>\n",
              "      <td>0</td>\n",
              "      <td>0</td>\n",
              "      <td>0</td>\n",
              "      <td>0</td>\n",
              "      <td>0</td>\n",
              "      <td>0</td>\n",
              "      <td>0</td>\n",
              "    </tr>\n",
              "    <tr>\n",
              "      <th>509</th>\n",
              "      <td>0</td>\n",
              "      <td>0</td>\n",
              "      <td>0</td>\n",
              "      <td>0</td>\n",
              "      <td>0</td>\n",
              "      <td>0</td>\n",
              "      <td>0</td>\n",
              "      <td>0</td>\n",
              "      <td>0</td>\n",
              "      <td>0</td>\n",
              "      <td>...</td>\n",
              "      <td>0</td>\n",
              "      <td>0</td>\n",
              "      <td>0</td>\n",
              "      <td>0</td>\n",
              "      <td>0</td>\n",
              "      <td>0</td>\n",
              "      <td>0</td>\n",
              "      <td>0</td>\n",
              "      <td>1</td>\n",
              "      <td>0</td>\n",
              "    </tr>\n",
              "    <tr>\n",
              "      <th>510</th>\n",
              "      <td>0</td>\n",
              "      <td>0</td>\n",
              "      <td>0</td>\n",
              "      <td>0</td>\n",
              "      <td>0</td>\n",
              "      <td>0</td>\n",
              "      <td>0</td>\n",
              "      <td>0</td>\n",
              "      <td>0</td>\n",
              "      <td>0</td>\n",
              "      <td>...</td>\n",
              "      <td>0</td>\n",
              "      <td>0</td>\n",
              "      <td>0</td>\n",
              "      <td>0</td>\n",
              "      <td>0</td>\n",
              "      <td>0</td>\n",
              "      <td>0</td>\n",
              "      <td>1</td>\n",
              "      <td>0</td>\n",
              "      <td>0</td>\n",
              "    </tr>\n",
              "    <tr>\n",
              "      <th>511</th>\n",
              "      <td>0</td>\n",
              "      <td>0</td>\n",
              "      <td>0</td>\n",
              "      <td>0</td>\n",
              "      <td>0</td>\n",
              "      <td>0</td>\n",
              "      <td>0</td>\n",
              "      <td>0</td>\n",
              "      <td>0</td>\n",
              "      <td>0</td>\n",
              "      <td>...</td>\n",
              "      <td>0</td>\n",
              "      <td>0</td>\n",
              "      <td>0</td>\n",
              "      <td>0</td>\n",
              "      <td>0</td>\n",
              "      <td>0</td>\n",
              "      <td>0</td>\n",
              "      <td>0</td>\n",
              "      <td>0</td>\n",
              "      <td>0</td>\n",
              "    </tr>\n",
              "  </tbody>\n",
              "</table>\n",
              "<p>512 rows × 512 columns</p>\n",
              "</div>\n",
              "      <button class=\"colab-df-convert\" onclick=\"convertToInteractive('df-2836c456-e053-43d5-abaf-94f8563a0d26')\"\n",
              "              title=\"Convert this dataframe to an interactive table.\"\n",
              "              style=\"display:none;\">\n",
              "        \n",
              "  <svg xmlns=\"http://www.w3.org/2000/svg\" height=\"24px\"viewBox=\"0 0 24 24\"\n",
              "       width=\"24px\">\n",
              "    <path d=\"M0 0h24v24H0V0z\" fill=\"none\"/>\n",
              "    <path d=\"M18.56 5.44l.94 2.06.94-2.06 2.06-.94-2.06-.94-.94-2.06-.94 2.06-2.06.94zm-11 1L8.5 8.5l.94-2.06 2.06-.94-2.06-.94L8.5 2.5l-.94 2.06-2.06.94zm10 10l.94 2.06.94-2.06 2.06-.94-2.06-.94-.94-2.06-.94 2.06-2.06.94z\"/><path d=\"M17.41 7.96l-1.37-1.37c-.4-.4-.92-.59-1.43-.59-.52 0-1.04.2-1.43.59L10.3 9.45l-7.72 7.72c-.78.78-.78 2.05 0 2.83L4 21.41c.39.39.9.59 1.41.59.51 0 1.02-.2 1.41-.59l7.78-7.78 2.81-2.81c.8-.78.8-2.07 0-2.86zM5.41 20L4 18.59l7.72-7.72 1.47 1.35L5.41 20z\"/>\n",
              "  </svg>\n",
              "      </button>\n",
              "      \n",
              "  <style>\n",
              "    .colab-df-container {\n",
              "      display:flex;\n",
              "      flex-wrap:wrap;\n",
              "      gap: 12px;\n",
              "    }\n",
              "\n",
              "    .colab-df-convert {\n",
              "      background-color: #E8F0FE;\n",
              "      border: none;\n",
              "      border-radius: 50%;\n",
              "      cursor: pointer;\n",
              "      display: none;\n",
              "      fill: #1967D2;\n",
              "      height: 32px;\n",
              "      padding: 0 0 0 0;\n",
              "      width: 32px;\n",
              "    }\n",
              "\n",
              "    .colab-df-convert:hover {\n",
              "      background-color: #E2EBFA;\n",
              "      box-shadow: 0px 1px 2px rgba(60, 64, 67, 0.3), 0px 1px 3px 1px rgba(60, 64, 67, 0.15);\n",
              "      fill: #174EA6;\n",
              "    }\n",
              "\n",
              "    [theme=dark] .colab-df-convert {\n",
              "      background-color: #3B4455;\n",
              "      fill: #D2E3FC;\n",
              "    }\n",
              "\n",
              "    [theme=dark] .colab-df-convert:hover {\n",
              "      background-color: #434B5C;\n",
              "      box-shadow: 0px 1px 3px 1px rgba(0, 0, 0, 0.15);\n",
              "      filter: drop-shadow(0px 1px 2px rgba(0, 0, 0, 0.3));\n",
              "      fill: #FFFFFF;\n",
              "    }\n",
              "  </style>\n",
              "\n",
              "      <script>\n",
              "        const buttonEl =\n",
              "          document.querySelector('#df-2836c456-e053-43d5-abaf-94f8563a0d26 button.colab-df-convert');\n",
              "        buttonEl.style.display =\n",
              "          google.colab.kernel.accessAllowed ? 'block' : 'none';\n",
              "\n",
              "        async function convertToInteractive(key) {\n",
              "          const element = document.querySelector('#df-2836c456-e053-43d5-abaf-94f8563a0d26');\n",
              "          const dataTable =\n",
              "            await google.colab.kernel.invokeFunction('convertToInteractive',\n",
              "                                                     [key], {});\n",
              "          if (!dataTable) return;\n",
              "\n",
              "          const docLinkHtml = 'Like what you see? Visit the ' +\n",
              "            '<a target=\"_blank\" href=https://colab.research.google.com/notebooks/data_table.ipynb>data table notebook</a>'\n",
              "            + ' to learn more about interactive tables.';\n",
              "          element.innerHTML = '';\n",
              "          dataTable['output_type'] = 'display_data';\n",
              "          await google.colab.output.renderOutput(dataTable, element);\n",
              "          const docLink = document.createElement('div');\n",
              "          docLink.innerHTML = docLinkHtml;\n",
              "          element.appendChild(docLink);\n",
              "        }\n",
              "      </script>\n",
              "    </div>\n",
              "  </div>\n",
              "  "
            ]
          },
          "metadata": {},
          "execution_count": 59
        }
      ],
      "source": [
        "# Carregando o arquivo csv e imprimindo a matriz de adjacencias\n",
        "matriz_adjacencias = pd.read_csv('/content/drive/MyDrive/BigData_PUC/TecnicasEmGraphMining/ATVS1/Grafo3_semana4.csv', delimiter=',', header=None)\n",
        "matriz_adjacencias"
      ]
    },
    {
      "cell_type": "code",
      "source": [
        "# Tranformando a matriz acima em um Grafo\n",
        "G = nx.from_pandas_adjacency(matriz_adjacencias)\n",
        "\n",
        "# Verificando se o grafo é direcionado\n",
        "if nx.is_directed(G):\n",
        "    print(\"O grafo é direcionado.\")\n",
        "else:\n",
        "    print(\"O grafo não é direcionado\")"
      ],
      "metadata": {
        "colab": {
          "base_uri": "https://localhost:8080/"
        },
        "id": "rBhdMWLQTmfa",
        "outputId": "a3097f11-78b4-427c-a359-4940d6792623"
      },
      "execution_count": null,
      "outputs": [
        {
          "output_type": "stream",
          "name": "stdout",
          "text": [
            "O grafo não é direcionado\n"
          ]
        }
      ]
    },
    {
      "cell_type": "markdown",
      "source": [
        "#### 2. Desenhe o grafo G na tela considerando as dimensões 12 x 7."
      ],
      "metadata": {
        "id": "8ELWGfxPLlKP"
      }
    },
    {
      "cell_type": "code",
      "source": [
        "# Visualizando graficamente o grafo G\n",
        "plt.figure(figsize=(12,7))\n",
        "nx.draw(G)"
      ],
      "metadata": {
        "colab": {
          "base_uri": "https://localhost:8080/",
          "height": 523
        },
        "id": "rGznrcW0LrIQ",
        "outputId": "20e5cd42-926e-4258-cf7f-298aca94411e"
      },
      "execution_count": null,
      "outputs": [
        {
          "output_type": "display_data",
          "data": {
            "text/plain": [
              "<Figure size 864x504 with 1 Axes>"
            ],
            "image/png": "[encoded data removed]"
          },
          "metadata": {}
        }
      ]
    },
    {
      "cell_type": "markdown",
      "source": [
        "#### 3. Extraia a quantidade de vértices e de arestas do grafo G."
      ],
      "metadata": {
        "id": "NHAn7qGOLrq4"
      }
    },
    {
      "cell_type": "code",
      "source": [
        "# Mostrando a quantidade de vértices e de arestas do Grafo G\n",
        "print('Ordem do Grafo G (qtde. de vértices)):', G.order())\n",
        "print('Tamanho do Grafo G (qtde. de arestas)):', G.size())"
      ],
      "metadata": {
        "colab": {
          "base_uri": "https://localhost:8080/"
        },
        "id": "eKRaJW9gLzAC",
        "outputId": "5de8d2ac-db72-44b1-e3a0-0997b2122a50"
      },
      "execution_count": null,
      "outputs": [
        {
          "output_type": "stream",
          "name": "stdout",
          "text": [
            "Ordem do Grafo G (qtde. de vértices)): 512\n",
            "Tamanho do Grafo G (qtde. de arestas)): 512\n"
          ]
        }
      ]
    },
    {
      "cell_type": "markdown",
      "source": [
        "####4. Extraia o grau do vértice 33 do grafo G e responda qual a diferença do grau deste vértice em relação ao grau médio da rede."
      ],
      "metadata": {
        "id": "hdAL1oWaL0Up"
      }
    },
    {
      "cell_type": "code",
      "source": [
        "# Obtendo o grau de vértice 33 para o grafo G\n",
        "print('Grau do vértice 33 do grafo G:', G.degree(33))\n"
      ],
      "metadata": {
        "colab": {
          "base_uri": "https://localhost:8080/"
        },
        "id": "NiHDTc30L6B6",
        "outputId": "2fae1801-27de-443b-d70a-b49c47d94be9"
      },
      "execution_count": null,
      "outputs": [
        {
          "output_type": "stream",
          "name": "stdout",
          "text": [
            "Grau do vértice 33 do grafo G: 3\n"
          ]
        }
      ]
    },
    {
      "cell_type": "code",
      "source": [
        "# Verificando o grau de todos os vértices da rede\n",
        "G.degree()"
      ],
      "metadata": {
        "colab": {
          "base_uri": "https://localhost:8080/"
        },
        "id": "R2zrfhKyYtRr",
        "outputId": "11230f55-1114-41dd-88e8-8d34cd9c5208"
      },
      "execution_count": null,
      "outputs": [
        {
          "output_type": "execute_result",
          "data": {
            "text/plain": [
              "DegreeView({0: 3, 1: 1, 2: 2, 3: 1, 4: 2, 5: 1, 6: 1, 7: 4, 8: 2, 9: 2, 10: 3, 11: 1, 12: 1, 13: 2, 14: 1, 15: 2, 16: 2, 17: 2, 18: 2, 19: 1, 20: 1, 21: 2, 22: 2, 23: 2, 24: 3, 25: 3, 26: 2, 27: 1, 28: 2, 29: 1, 30: 1, 31: 2, 32: 3, 33: 3, 34: 3, 35: 2, 36: 3, 37: 3, 38: 2, 39: 1, 40: 3, 41: 1, 42: 1, 43: 2, 44: 2, 45: 3, 46: 3, 47: 1, 48: 3, 49: 1, 50: 2, 51: 4, 52: 2, 53: 3, 54: 2, 55: 1, 56: 2, 57: 1, 58: 5, 59: 2, 60: 1, 61: 1, 62: 2, 63: 1, 64: 1, 65: 2, 66: 3, 67: 1, 68: 1, 69: 1, 70: 1, 71: 1, 72: 3, 73: 1, 74: 2, 75: 2, 76: 2, 77: 2, 78: 2, 79: 4, 80: 2, 81: 1, 82: 3, 83: 2, 84: 1, 85: 4, 86: 1, 87: 1, 88: 2, 89: 1, 90: 2, 91: 1, 92: 2, 93: 2, 94: 4, 95: 1, 96: 1, 97: 3, 98: 2, 99: 1, 100: 2, 101: 2, 102: 1, 103: 2, 104: 1, 105: 1, 106: 2, 107: 1, 108: 2, 109: 1, 110: 3, 111: 1, 112: 2, 113: 2, 114: 2, 115: 1, 116: 2, 117: 3, 118: 1, 119: 3, 120: 1, 121: 2, 122: 2, 123: 1, 124: 2, 125: 1, 126: 2, 127: 2, 128: 2, 129: 3, 130: 3, 131: 2, 132: 4, 133: 2, 134: 2, 135: 1, 136: 2, 137: 1, 138: 1, 139: 3, 140: 2, 141: 2, 142: 3, 143: 2, 144: 1, 145: 1, 146: 2, 147: 2, 148: 4, 149: 2, 150: 1, 151: 1, 152: 3, 153: 3, 154: 3, 155: 4, 156: 2, 157: 1, 158: 2, 159: 1, 160: 2, 161: 3, 162: 2, 163: 4, 164: 4, 165: 3, 166: 1, 167: 1, 168: 2, 169: 1, 170: 1, 171: 3, 172: 2, 173: 3, 174: 3, 175: 2, 176: 2, 177: 1, 178: 1, 179: 3, 180: 2, 181: 2, 182: 1, 183: 3, 184: 3, 185: 2, 186: 2, 187: 2, 188: 2, 189: 2, 190: 3, 191: 2, 192: 2, 193: 2, 194: 3, 195: 3, 196: 1, 197: 4, 198: 3, 199: 1, 200: 2, 201: 1, 202: 2, 203: 3, 204: 3, 205: 4, 206: 2, 207: 1, 208: 2, 209: 1, 210: 3, 211: 2, 212: 1, 213: 1, 214: 3, 215: 4, 216: 2, 217: 3, 218: 2, 219: 2, 220: 1, 221: 2, 222: 1, 223: 3, 224: 2, 225: 4, 226: 4, 227: 1, 228: 3, 229: 3, 230: 3, 231: 2, 232: 2, 233: 3, 234: 1, 235: 1, 236: 2, 237: 2, 238: 1, 239: 2, 240: 2, 241: 1, 242: 3, 243: 1, 244: 3, 245: 3, 246: 3, 247: 2, 248: 1, 249: 1, 250: 2, 251: 2, 252: 1, 253: 1, 254: 4, 255: 1, 256: 1, 257: 3, 258: 1, 259: 2, 260: 2, 261: 4, 262: 2, 263: 3, 264: 4, 265: 4, 266: 4, 267: 1, 268: 3, 269: 3, 270: 1, 271: 1, 272: 1, 273: 2, 274: 2, 275: 3, 276: 2, 277: 1, 278: 2, 279: 2, 280: 2, 281: 3, 282: 1, 283: 2, 284: 1, 285: 2, 286: 1, 287: 1, 288: 4, 289: 2, 290: 4, 291: 2, 292: 3, 293: 3, 294: 2, 295: 2, 296: 2, 297: 2, 298: 4, 299: 3, 300: 1, 301: 2, 302: 3, 303: 1, 304: 4, 305: 2, 306: 1, 307: 1, 308: 2, 309: 2, 310: 2, 311: 1, 312: 2, 313: 1, 314: 1, 315: 1, 316: 2, 317: 2, 318: 1, 319: 2, 320: 3, 321: 3, 322: 1, 323: 1, 324: 1, 325: 1, 326: 3, 327: 5, 328: 2, 329: 2, 330: 5, 331: 2, 332: 2, 333: 1, 334: 2, 335: 2, 336: 2, 337: 1, 338: 2, 339: 1, 340: 1, 341: 3, 342: 2, 343: 3, 344: 3, 345: 2, 346: 4, 347: 2, 348: 1, 349: 2, 350: 1, 351: 1, 352: 1, 353: 2, 354: 1, 355: 2, 356: 1, 357: 2, 358: 2, 359: 2, 360: 2, 361: 2, 362: 2, 363: 3, 364: 1, 365: 3, 366: 2, 367: 2, 368: 2, 369: 2, 370: 2, 371: 2, 372: 1, 373: 2, 374: 1, 375: 2, 376: 4, 377: 1, 378: 4, 379: 2, 380: 1, 381: 2, 382: 3, 383: 1, 384: 1, 385: 2, 386: 1, 387: 1, 388: 1, 389: 1, 390: 1, 391: 2, 392: 1, 393: 2, 394: 2, 395: 2, 396: 1, 397: 1, 398: 3, 399: 1, 400: 3, 401: 3, 402: 1, 403: 2, 404: 3, 405: 2, 406: 1, 407: 2, 408: 2, 409: 3, 410: 3, 411: 1, 412: 1, 413: 1, 414: 1, 415: 1, 416: 2, 417: 2, 418: 3, 419: 1, 420: 1, 421: 1, 422: 4, 423: 1, 424: 3, 425: 2, 426: 1, 427: 2, 428: 1, 429: 2, 430: 2, 431: 1, 432: 3, 433: 1, 434: 2, 435: 3, 436: 2, 437: 2, 438: 1, 439: 1, 440: 1, 441: 1, 442: 2, 443: 1, 444: 2, 445: 1, 446: 2, 447: 1, 448: 2, 449: 1, 450: 1, 451: 4, 452: 2, 453: 4, 454: 1, 455: 2, 456: 1, 457: 4, 458: 3, 459: 2, 460: 3, 461: 1, 462: 2, 463: 4, 464: 3, 465: 3, 466: 6, 467: 2, 468: 4, 469: 1, 470: 2, 471: 3, 472: 1, 473: 3, 474: 1, 475: 2, 476: 3, 477: 1, 478: 1, 479: 2, 480: 2, 481: 2, 482: 2, 483: 4, 484: 1, 485: 1, 486: 1, 487: 1, 488: 1, 489: 3, 490: 2, 491: 2, 492: 2, 493: 4, 494: 2, 495: 1, 496: 4, 497: 3, 498: 2, 499: 1, 500: 2, 501: 3, 502: 1, 503: 1, 504: 1, 505: 2, 506: 2, 507: 1, 508: 1, 509: 2, 510: 2, 511: 3})"
            ]
          },
          "metadata": {},
          "execution_count": 64
        }
      ]
    },
    {
      "cell_type": "code",
      "source": [
        "# Transformando a variável \"G.degree\" em dicionário\n",
        "graus_G = dict(G.degree())\n",
        "\n",
        "# Pegando os valores do dicionário e transfomando em lista\n",
        "graus_G = list(graus_G.values())\n",
        "\n",
        "# Calculando a média da rede \"graus_G\"\n",
        "grau_medio_G = np.mean(graus_G)\n",
        "\n",
        "# Mostrando o valor do grau médio para a rede \"graus_G\"\n",
        "print('Grau médio da rede G:', grau_medio_G)"
      ],
      "metadata": {
        "colab": {
          "base_uri": "https://localhost:8080/"
        },
        "id": "5jUUoB_vYzDT",
        "outputId": "c69e3554-7c58-477b-eaa1-263479f9783f"
      },
      "execution_count": null,
      "outputs": [
        {
          "output_type": "stream",
          "name": "stdout",
          "text": [
            "Grau médio da rede G: 2.0\n"
          ]
        }
      ]
    },
    {
      "cell_type": "code",
      "source": [
        "# Conforme os resultados obtidos, o Grau do vértice 33 foi igual a 3, indicando que esse grau possui \n",
        "# 3 arestas, ou 3 conexôes com os demais vértices.\n",
        "# Verificou-se também que o grau médio da rede (grau médio de todos os vértices da rede) foi igual a 2,\n",
        "# indicando que os vértices da rede possuem em média 2 arestas cada um."
      ],
      "metadata": {
        "id": "_aJ6TJjJiFa4"
      },
      "execution_count": null,
      "outputs": []
    },
    {
      "cell_type": "markdown",
      "source": [
        "#### 5. Extraia o conjunto de arestas que se conectam ao vértice 33 do grafo G e as apresente utilizando uma lista."
      ],
      "metadata": {
        "id": "VsTL1WH6L757"
      }
    },
    {
      "cell_type": "code",
      "source": [
        "edges_33 = [(u, v) for u, v in G.edges(33)]\n",
        "print(\"As arestas conectadas ao vértice 33 são:\" , edges_33)"
      ],
      "metadata": {
        "colab": {
          "base_uri": "https://localhost:8080/"
        },
        "id": "wYMBCr7-MCFs",
        "outputId": "ed4cb736-8975-4bcb-d144-3363d5fd7f06"
      },
      "execution_count": null,
      "outputs": [
        {
          "output_type": "stream",
          "name": "stdout",
          "text": [
            "As arestas conectadas ao vértice 33 são: [(33, 32), (33, 34), (33, 335)]\n"
          ]
        }
      ]
    },
    {
      "cell_type": "markdown",
      "source": [
        "#### 6. Apresente a distribuição de graus do grafo G em uma figura com dimensões 10 x 5."
      ],
      "metadata": {
        "id": "paAsFq3YMI_M"
      }
    },
    {
      "cell_type": "code",
      "source": [
        "plt.figure(figsize=(10,5))\n",
        "plt.hist(graus_G)\n",
        "plt.title('Distribuição de graus do Grafo G')\n",
        "plt.xlabel('Grau')\n",
        "plt.ylabel('Quantidade')"
      ],
      "metadata": {
        "id": "uXCvU1SKMOo1"
      },
      "execution_count": null,
      "outputs": []
    }
  ]
}