{
 "cells": [
  {
   "cell_type": "markdown",
   "id": "e8b5e21a",
   "metadata": {},
   "source": [
    "<h1 style=\"text-align: center;\">Análise de Despesas Públicas: Utilizando técnicas de Análise Exploratória de Dados, Big Data e Machine Learning na Prefeitura de Curitiba</h1>\n",
    "\n",
    "\n",
    "### Acadêmico: Abrahão Scheifer"
   ]
  },
  {
   "cell_type": "markdown",
   "id": "36bdbecf",
   "metadata": {},
   "source": [
    "## 1. Importação de bibliotecas"
   ]
  },
  {
   "cell_type": "code",
   "execution_count": 48,
   "id": "070372fc",
   "metadata": {},
   "outputs": [],
   "source": [
    "# Importando as bibliotecas necessárias\n",
    "\n",
    "import pandas as pd  # Biblioteca para manipulação de dados em formato tabular\n",
    "import os  # Biblioteca para interação com o sistema operacional\n",
    "import pyspark  # Biblioteca para processamento de dados distribuído e em grande escala\n",
    "from pyspark.sql import SparkSession  # Classe para criar uma sessão do Spark\n",
    "from sklearn.model_selection import train_test_split  # Função para dividir o conjunto de dados em treino e teste\n",
    "from sklearn.metrics import mean_squared_error, r2_score  # Funções para avaliar o desempenho do modelo\n",
    "from sklearn.tree import DecisionTreeRegressor  # Classe para criar um modelo de Árvore de Decisão\n",
    "from sklearn.ensemble import RandomForestRegressor, ExtraTreesRegressor  # Classes para criar modelos de Floresta Aleatória e Extra Trees\n",
    "import matplotlib.pyplot as plt  # Biblioteca para visualização de dados em gráficos\n",
    "from sklearn.linear_model import LinearRegression  # Classe para criar um modelo de Regressão Linear\n",
    "from sklearn.preprocessing import OneHotEncoder  # Classe para realizar o pré-processamento de dados com codificação One-Hot\n",
    "from sklearn.model_selection import GridSearchCV, RandomizedSearchCV  # Classes para realizar busca em grid e busca aleatória de hiperparâmetros\n",
    "from scipy.stats import randint  # Distribuição estatística utilizada na busca aleatória de hiperparâmetros"
   ]
  },
  {
   "cell_type": "markdown",
   "id": "f1c92d6a",
   "metadata": {},
   "source": [
    "## 2. Coleta de dados"
   ]
  },
  {
   "cell_type": "code",
   "execution_count": 2,
   "id": "8b73bcab",
   "metadata": {},
   "outputs": [
    {
     "data": {
      "text/html": [
       "<div>\n",
       "<style scoped>\n",
       "    .dataframe tbody tr th:only-of-type {\n",
       "        vertical-align: middle;\n",
       "    }\n",
       "\n",
       "    .dataframe tbody tr th {\n",
       "        vertical-align: top;\n",
       "    }\n",
       "\n",
       "    .dataframe thead th {\n",
       "        text-align: right;\n",
       "    }\n",
       "</style>\n",
       "<table border=\"1\" class=\"dataframe\">\n",
       "  <thead>\n",
       "    <tr style=\"text-align: right;\">\n",
       "      <th></th>\n",
       "      <th>ANO_EMPENHO</th>\n",
       "      <th>DT_EMPENHO</th>\n",
       "      <th>CD_FONTE</th>\n",
       "      <th>DS_FONTE</th>\n",
       "      <th>CD_FUNCAO</th>\n",
       "      <th>DS_FUNCAO</th>\n",
       "      <th>CD_PROGRAMA</th>\n",
       "      <th>DS_PROGRAMA</th>\n",
       "      <th>CD_ACAO</th>\n",
       "      <th>DS_ACAO</th>\n",
       "      <th>...</th>\n",
       "      <th>VL_TOTAL</th>\n",
       "      <th>PROTOCOLOSUP</th>\n",
       "      <th>DT_TRANSACAO</th>\n",
       "      <th>NR_PARCELA</th>\n",
       "      <th>TRANSACAO</th>\n",
       "      <th>VL_LIQUIDADO</th>\n",
       "      <th>VL_DEVOLVIDO</th>\n",
       "      <th>VL_ANULADO</th>\n",
       "      <th>VL_PAGO</th>\n",
       "      <th>VL_CONSIGNADO</th>\n",
       "    </tr>\n",
       "  </thead>\n",
       "  <tbody>\n",
       "    <tr>\n",
       "      <th>0</th>\n",
       "      <td>-----------</td>\n",
       "      <td>----------</td>\n",
       "      <td>--------</td>\n",
       "      <td>--------</td>\n",
       "      <td>---------</td>\n",
       "      <td>---------</td>\n",
       "      <td>-----------</td>\n",
       "      <td>-----------</td>\n",
       "      <td>-------</td>\n",
       "      <td>-------</td>\n",
       "      <td>...</td>\n",
       "      <td>--------</td>\n",
       "      <td>------------</td>\n",
       "      <td>------------</td>\n",
       "      <td>------------</td>\n",
       "      <td>------------</td>\n",
       "      <td>------------</td>\n",
       "      <td>------------</td>\n",
       "      <td>----------</td>\n",
       "      <td>-------</td>\n",
       "      <td>-------------</td>\n",
       "    </tr>\n",
       "    <tr>\n",
       "      <th>1</th>\n",
       "      <td>2023</td>\n",
       "      <td>2023-02-03</td>\n",
       "      <td>900</td>\n",
       "      <td>Fundo do Idoso, inclusive art. 9º IN RFB nº 11...</td>\n",
       "      <td>08</td>\n",
       "      <td>ASSISTÊNCIA SOCIAL</td>\n",
       "      <td>0001</td>\n",
       "      <td>PROGRAMA VIVA CURITIBA QUE NÃO DORME</td>\n",
       "      <td>2008</td>\n",
       "      <td>DESENVOLVIMENTO E EXECUÇÃO DE AÇÕES DE ATENDIM...</td>\n",
       "      <td>...</td>\n",
       "      <td>5,5600</td>\n",
       "      <td>01-096408/2023</td>\n",
       "      <td>2023-04-20 00:00:00.000</td>\n",
       "      <td>1</td>\n",
       "      <td>Pagamento de Empenho</td>\n",
       "      <td>0,00</td>\n",
       "      <td>0,00</td>\n",
       "      <td>0,00</td>\n",
       "      <td>15,26</td>\n",
       "      <td>0,00</td>\n",
       "    </tr>\n",
       "    <tr>\n",
       "      <th>2</th>\n",
       "      <td>2023</td>\n",
       "      <td>2023-02-03</td>\n",
       "      <td>900</td>\n",
       "      <td>Fundo do Idoso, inclusive art. 9º IN RFB nº 11...</td>\n",
       "      <td>08</td>\n",
       "      <td>ASSISTÊNCIA SOCIAL</td>\n",
       "      <td>0001</td>\n",
       "      <td>PROGRAMA VIVA CURITIBA QUE NÃO DORME</td>\n",
       "      <td>2008</td>\n",
       "      <td>DESENVOLVIMENTO E EXECUÇÃO DE AÇÕES DE ATENDIM...</td>\n",
       "      <td>...</td>\n",
       "      <td>5,5600</td>\n",
       "      <td>01-096408/2023</td>\n",
       "      <td>2023-04-20 00:00:00.000</td>\n",
       "      <td>1</td>\n",
       "      <td>Liquidação de Empenho</td>\n",
       "      <td>15,26</td>\n",
       "      <td>0,00</td>\n",
       "      <td>0,00</td>\n",
       "      <td>0,00</td>\n",
       "      <td>0,00</td>\n",
       "    </tr>\n",
       "    <tr>\n",
       "      <th>3</th>\n",
       "      <td>2023</td>\n",
       "      <td>2023-03-01</td>\n",
       "      <td>001</td>\n",
       "      <td>Recursos do Tesouro (Descentralizados)</td>\n",
       "      <td>06</td>\n",
       "      <td>SEGURANÇA PÚBLICA</td>\n",
       "      <td>0001</td>\n",
       "      <td>PROGRAMA VIVA CURITIBA QUE NÃO DORME</td>\n",
       "      <td>2025</td>\n",
       "      <td>PREVENÇÃO E ADMINISTRAÇÃO DE POTENCIAIS DESAST...</td>\n",
       "      <td>...</td>\n",
       "      <td>NaN</td>\n",
       "      <td>NaN</td>\n",
       "      <td>NaN</td>\n",
       "      <td>NaN</td>\n",
       "      <td>NaN</td>\n",
       "      <td>NaN</td>\n",
       "      <td>NaN</td>\n",
       "      <td>NaN</td>\n",
       "      <td>NaN</td>\n",
       "      <td>NaN</td>\n",
       "    </tr>\n",
       "    <tr>\n",
       "      <th>4</th>\n",
       "      <td>2023</td>\n",
       "      <td>2023-03-16</td>\n",
       "      <td>2098</td>\n",
       "      <td>Recursos Próprios do Fundo Municipal de Apoio ...</td>\n",
       "      <td>08</td>\n",
       "      <td>ASSISTÊNCIA SOCIAL</td>\n",
       "      <td>0001</td>\n",
       "      <td>PROGRAMA VIVA CURITIBA QUE NÃO DORME</td>\n",
       "      <td>2010</td>\n",
       "      <td>TRANSFERÊNCIA DE RECURSOS ÀS ENTIDADES PRIVADA...</td>\n",
       "      <td>...</td>\n",
       "      <td>NaN</td>\n",
       "      <td>01-203553/2022</td>\n",
       "      <td>2023-03-17 00:00:00.000</td>\n",
       "      <td>1</td>\n",
       "      <td>Liquidação de Empenho</td>\n",
       "      <td>140400,00</td>\n",
       "      <td>0,00</td>\n",
       "      <td>0,00</td>\n",
       "      <td>0,00</td>\n",
       "      <td>0,00</td>\n",
       "    </tr>\n",
       "  </tbody>\n",
       "</table>\n",
       "<p>5 rows × 41 columns</p>\n",
       "</div>"
      ],
      "text/plain": [
       "   ANO_EMPENHO  DT_EMPENHO  CD_FONTE  \\\n",
       "0  -----------  ----------  --------   \n",
       "1         2023  2023-02-03   900       \n",
       "2         2023  2023-02-03   900       \n",
       "3         2023  2023-03-01   001       \n",
       "4         2023  2023-03-16   2098      \n",
       "\n",
       "                                            DS_FONTE  CD_FUNCAO  \\\n",
       "0                                           --------  ---------   \n",
       "1  Fundo do Idoso, inclusive art. 9º IN RFB nº 11...         08   \n",
       "2  Fundo do Idoso, inclusive art. 9º IN RFB nº 11...         08   \n",
       "3             Recursos do Tesouro (Descentralizados)         06   \n",
       "4  Recursos Próprios do Fundo Municipal de Apoio ...         08   \n",
       "\n",
       "            DS_FUNCAO  CD_PROGRAMA                           DS_PROGRAMA  \\\n",
       "0           ---------  -----------                           -----------   \n",
       "1  ASSISTÊNCIA SOCIAL         0001  PROGRAMA VIVA CURITIBA QUE NÃO DORME   \n",
       "2  ASSISTÊNCIA SOCIAL         0001  PROGRAMA VIVA CURITIBA QUE NÃO DORME   \n",
       "3   SEGURANÇA PÚBLICA         0001  PROGRAMA VIVA CURITIBA QUE NÃO DORME   \n",
       "4  ASSISTÊNCIA SOCIAL         0001  PROGRAMA VIVA CURITIBA QUE NÃO DORME   \n",
       "\n",
       "   CD_ACAO                                            DS_ACAO  ...  VL_TOTAL  \\\n",
       "0  -------                                            -------  ...  --------   \n",
       "1     2008  DESENVOLVIMENTO E EXECUÇÃO DE AÇÕES DE ATENDIM...  ...    5,5600   \n",
       "2     2008  DESENVOLVIMENTO E EXECUÇÃO DE AÇÕES DE ATENDIM...  ...    5,5600   \n",
       "3     2025  PREVENÇÃO E ADMINISTRAÇÃO DE POTENCIAIS DESAST...  ...       NaN   \n",
       "4     2010  TRANSFERÊNCIA DE RECURSOS ÀS ENTIDADES PRIVADA...  ...       NaN   \n",
       "\n",
       "     PROTOCOLOSUP             DT_TRANSACAO    NR_PARCELA  \\\n",
       "0    ------------             ------------  ------------   \n",
       "1  01-096408/2023  2023-04-20 00:00:00.000             1   \n",
       "2  01-096408/2023  2023-04-20 00:00:00.000             1   \n",
       "3             NaN                      NaN           NaN   \n",
       "4  01-203553/2022  2023-03-17 00:00:00.000             1   \n",
       "\n",
       "               TRANSACAO  VL_LIQUIDADO  VL_DEVOLVIDO  VL_ANULADO  VL_PAGO  \\\n",
       "0           ------------  ------------  ------------  ----------  -------   \n",
       "1   Pagamento de Empenho          0,00          0,00        0,00    15,26   \n",
       "2  Liquidação de Empenho         15,26          0,00        0,00     0,00   \n",
       "3                    NaN           NaN           NaN         NaN      NaN   \n",
       "4  Liquidação de Empenho     140400,00          0,00        0,00     0,00   \n",
       "\n",
       "   VL_CONSIGNADO  \n",
       "0  -------------  \n",
       "1           0,00  \n",
       "2           0,00  \n",
       "3            NaN  \n",
       "4           0,00  \n",
       "\n",
       "[5 rows x 41 columns]"
      ]
     },
     "execution_count": 2,
     "metadata": {},
     "output_type": "execute_result"
    }
   ],
   "source": [
    "# Carregando o dataset\n",
    "\n",
    "caminho_pasta = r\"C:\\Users\\asche\\Área de Trabalho\\OficinaMaker\\Projeto\\Dataset\"\n",
    "nome_arquivo = \"Dataset_Despesas.csv\"\n",
    "caminho_arquivo = os.path.join(caminho_pasta, nome_arquivo)\n",
    "\n",
    "df = pd.read_csv(caminho_arquivo, delimiter=';', encoding='latin1', low_memory=False)\n",
    "df.head()"
   ]
  },
  {
   "cell_type": "markdown",
   "id": "f6e23222",
   "metadata": {},
   "source": [
    "### 2.1 Descrição do formato dos dados"
   ]
  },
  {
   "cell_type": "code",
   "execution_count": 3,
   "id": "806eb5c1",
   "metadata": {},
   "outputs": [
    {
     "name": "stdout",
     "output_type": "stream",
     "text": [
      "<class 'pandas.core.frame.DataFrame'>\n",
      "RangeIndex: 34419 entries, 0 to 34418\n",
      "Data columns (total 41 columns):\n",
      " #   Column                     Non-Null Count  Dtype \n",
      "---  ------                     --------------  ----- \n",
      " 0   ANO_EMPENHO                34419 non-null  object\n",
      " 1   DT_EMPENHO                 34419 non-null  object\n",
      " 2   CD_FONTE                   34419 non-null  object\n",
      " 3   DS_FONTE                   34419 non-null  object\n",
      " 4   CD_FUNCAO                  34419 non-null  object\n",
      " 5   DS_FUNCAO                  34419 non-null  object\n",
      " 6   CD_PROGRAMA                34419 non-null  object\n",
      " 7   DS_PROGRAMA                34419 non-null  object\n",
      " 8   CD_ACAO                    34419 non-null  object\n",
      " 9   DS_ACAO                    34419 non-null  object\n",
      " 10  CD_SUBELEMENTO             34419 non-null  object\n",
      " 11  DS_SUBELEMENTO             34419 non-null  object\n",
      " 12  CD_ORGAO                   34419 non-null  object\n",
      " 13  DS_ORGAO                   34419 non-null  object\n",
      " 14  CD_DESPESA                 34419 non-null  object\n",
      " 15  DS_DESPESA                 34419 non-null  object\n",
      " 16  CODIGO_DESPESA_GRUPO       34419 non-null  object\n",
      " 17  DS_GRUPO                   34419 non-null  object\n",
      " 18  CODIGO_DESPESA_MODALIDADE  34419 non-null  object\n",
      " 19  DS_MODALIDADE              34419 non-null  object\n",
      " 20  CODIGO_DESPESA_ELEMENTO    34419 non-null  object\n",
      " 21  DS_ELEMENTO                34419 non-null  object\n",
      " 22  CPF_CNPJ                   34419 non-null  object\n",
      " 23  NR_EMPENHO                 34419 non-null  object\n",
      " 24  LICITACAO                  34419 non-null  object\n",
      " 25  VL_EMPENHADO               34419 non-null  object\n",
      " 26  CD_ITEM                    8267 non-null   object\n",
      " 27  DS_ITEM                    8267 non-null   object\n",
      " 28  DS_UNIDADE                 8247 non-null   object\n",
      " 29  QUANTIDADE                 8247 non-null   object\n",
      " 30  VL_PRECO_UNITARIO          8247 non-null   object\n",
      " 31  VL_TOTAL                   8247 non-null   object\n",
      " 32  PROTOCOLOSUP               28759 non-null  object\n",
      " 33  DT_TRANSACAO               28759 non-null  object\n",
      " 34  NR_PARCELA                 28759 non-null  object\n",
      " 35  TRANSACAO                  28759 non-null  object\n",
      " 36  VL_LIQUIDADO               28759 non-null  object\n",
      " 37  VL_DEVOLVIDO               28759 non-null  object\n",
      " 38  VL_ANULADO                 28759 non-null  object\n",
      " 39  VL_PAGO                    28759 non-null  object\n",
      " 40  VL_CONSIGNADO              28759 non-null  object\n",
      "dtypes: object(41)\n",
      "memory usage: 10.8+ MB\n"
     ]
    }
   ],
   "source": [
    "# verificando o formato dos dados no dataset\n",
    "df.info()"
   ]
  },
  {
   "cell_type": "markdown",
   "id": "646ae340",
   "metadata": {},
   "source": [
    "### 2.2 Seleção das variáveis relevantes para o projeto"
   ]
  },
  {
   "cell_type": "code",
   "execution_count": 4,
   "id": "1d5bb382",
   "metadata": {},
   "outputs": [],
   "source": [
    "# Selecionando apenas as variáveis relevantes para o projeto:\n",
    "variaveis_selecionadas = ['ANO_EMPENHO','DT_EMPENHO', 'CD_FUNCAO', 'DS_FUNCAO', 'CD_PROGRAMA',\n",
    "                          'DS_PROGRAMA', 'CD_ORGAO', 'DS_ORGAO', 'VL_PAGO']\n",
    "despesas = df[variaveis_selecionadas].copy()\n",
    "\n",
    "# Salvando o novo DataFrame\n",
    "df_despesas = despesas"
   ]
  },
  {
   "cell_type": "code",
   "execution_count": 5,
   "id": "c63eef4a",
   "metadata": {},
   "outputs": [
    {
     "name": "stdout",
     "output_type": "stream",
     "text": [
      "<class 'pandas.core.frame.DataFrame'>\n",
      "RangeIndex: 34419 entries, 0 to 34418\n",
      "Data columns (total 9 columns):\n",
      " #   Column       Non-Null Count  Dtype \n",
      "---  ------       --------------  ----- \n",
      " 0   ANO_EMPENHO  34419 non-null  object\n",
      " 1   DT_EMPENHO   34419 non-null  object\n",
      " 2   CD_FUNCAO    34419 non-null  object\n",
      " 3   DS_FUNCAO    34419 non-null  object\n",
      " 4   CD_PROGRAMA  34419 non-null  object\n",
      " 5   DS_PROGRAMA  34419 non-null  object\n",
      " 6   CD_ORGAO     34419 non-null  object\n",
      " 7   DS_ORGAO     34419 non-null  object\n",
      " 8   VL_PAGO      28759 non-null  object\n",
      "dtypes: object(9)\n",
      "memory usage: 2.4+ MB\n"
     ]
    }
   ],
   "source": [
    "df_despesas.info()"
   ]
  },
  {
   "cell_type": "markdown",
   "id": "d3965486",
   "metadata": {},
   "source": [
    "### 2.4 Experimentos iniciais realizados no dataset"
   ]
  },
  {
   "cell_type": "code",
   "execution_count": 6,
   "id": "cb405ed5",
   "metadata": {},
   "outputs": [
    {
     "data": {
      "text/html": [
       "<div>\n",
       "<style scoped>\n",
       "    .dataframe tbody tr th:only-of-type {\n",
       "        vertical-align: middle;\n",
       "    }\n",
       "\n",
       "    .dataframe tbody tr th {\n",
       "        vertical-align: top;\n",
       "    }\n",
       "\n",
       "    .dataframe thead th {\n",
       "        text-align: right;\n",
       "    }\n",
       "</style>\n",
       "<table border=\"1\" class=\"dataframe\">\n",
       "  <thead>\n",
       "    <tr style=\"text-align: right;\">\n",
       "      <th></th>\n",
       "      <th>ANO_EMPENHO</th>\n",
       "      <th>DT_EMPENHO</th>\n",
       "      <th>CD_FUNCAO</th>\n",
       "      <th>DS_FUNCAO</th>\n",
       "      <th>CD_PROGRAMA</th>\n",
       "      <th>DS_PROGRAMA</th>\n",
       "      <th>CD_ORGAO</th>\n",
       "      <th>DS_ORGAO</th>\n",
       "      <th>VL_PAGO</th>\n",
       "    </tr>\n",
       "  </thead>\n",
       "  <tbody>\n",
       "    <tr>\n",
       "      <th>0</th>\n",
       "      <td>-----------</td>\n",
       "      <td>----------</td>\n",
       "      <td>---------</td>\n",
       "      <td>---------</td>\n",
       "      <td>-----------</td>\n",
       "      <td>-----------</td>\n",
       "      <td>--------</td>\n",
       "      <td>--------</td>\n",
       "      <td>-------</td>\n",
       "    </tr>\n",
       "    <tr>\n",
       "      <th>1</th>\n",
       "      <td>2023</td>\n",
       "      <td>2023-02-03</td>\n",
       "      <td>08</td>\n",
       "      <td>ASSISTÊNCIA SOCIAL</td>\n",
       "      <td>0001</td>\n",
       "      <td>PROGRAMA VIVA CURITIBA QUE NÃO DORME</td>\n",
       "      <td>44</td>\n",
       "      <td>FUNDO MUNICIPAL DOS DIREITOS DA PESSOA IDOSA</td>\n",
       "      <td>15,26</td>\n",
       "    </tr>\n",
       "    <tr>\n",
       "      <th>2</th>\n",
       "      <td>2023</td>\n",
       "      <td>2023-02-03</td>\n",
       "      <td>08</td>\n",
       "      <td>ASSISTÊNCIA SOCIAL</td>\n",
       "      <td>0001</td>\n",
       "      <td>PROGRAMA VIVA CURITIBA QUE NÃO DORME</td>\n",
       "      <td>44</td>\n",
       "      <td>FUNDO MUNICIPAL DOS DIREITOS DA PESSOA IDOSA</td>\n",
       "      <td>0,00</td>\n",
       "    </tr>\n",
       "    <tr>\n",
       "      <th>3</th>\n",
       "      <td>2023</td>\n",
       "      <td>2023-03-01</td>\n",
       "      <td>06</td>\n",
       "      <td>SEGURANÇA PÚBLICA</td>\n",
       "      <td>0001</td>\n",
       "      <td>PROGRAMA VIVA CURITIBA QUE NÃO DORME</td>\n",
       "      <td>42</td>\n",
       "      <td>FUNDO MUNICIPAL DE DEFESA CIVIL</td>\n",
       "      <td>NaN</td>\n",
       "    </tr>\n",
       "    <tr>\n",
       "      <th>4</th>\n",
       "      <td>2023</td>\n",
       "      <td>2023-03-16</td>\n",
       "      <td>08</td>\n",
       "      <td>ASSISTÊNCIA SOCIAL</td>\n",
       "      <td>0001</td>\n",
       "      <td>PROGRAMA VIVA CURITIBA QUE NÃO DORME</td>\n",
       "      <td>37</td>\n",
       "      <td>FUNDO MUNICIPAL DE APOIO AO DEFICIENTE</td>\n",
       "      <td>0,00</td>\n",
       "    </tr>\n",
       "  </tbody>\n",
       "</table>\n",
       "</div>"
      ],
      "text/plain": [
       "   ANO_EMPENHO  DT_EMPENHO  CD_FUNCAO           DS_FUNCAO  CD_PROGRAMA  \\\n",
       "0  -----------  ----------  ---------           ---------  -----------   \n",
       "1         2023  2023-02-03         08  ASSISTÊNCIA SOCIAL         0001   \n",
       "2         2023  2023-02-03         08  ASSISTÊNCIA SOCIAL         0001   \n",
       "3         2023  2023-03-01         06   SEGURANÇA PÚBLICA         0001   \n",
       "4         2023  2023-03-16         08  ASSISTÊNCIA SOCIAL         0001   \n",
       "\n",
       "                            DS_PROGRAMA  CD_ORGAO  \\\n",
       "0                           -----------  --------   \n",
       "1  PROGRAMA VIVA CURITIBA QUE NÃO DORME        44   \n",
       "2  PROGRAMA VIVA CURITIBA QUE NÃO DORME        44   \n",
       "3  PROGRAMA VIVA CURITIBA QUE NÃO DORME        42   \n",
       "4  PROGRAMA VIVA CURITIBA QUE NÃO DORME        37   \n",
       "\n",
       "                                       DS_ORGAO  VL_PAGO  \n",
       "0                                      --------  -------  \n",
       "1  FUNDO MUNICIPAL DOS DIREITOS DA PESSOA IDOSA    15,26  \n",
       "2  FUNDO MUNICIPAL DOS DIREITOS DA PESSOA IDOSA     0,00  \n",
       "3               FUNDO MUNICIPAL DE DEFESA CIVIL      NaN  \n",
       "4        FUNDO MUNICIPAL DE APOIO AO DEFICIENTE     0,00  "
      ]
     },
     "metadata": {},
     "output_type": "display_data"
    }
   ],
   "source": [
    "# Exibindo as 5 primeiras linhas do DataFrame em formato de tabela\n",
    "display(df_despesas.head(5))"
   ]
  },
  {
   "cell_type": "code",
   "execution_count": 7,
   "id": "a34142e5",
   "metadata": {},
   "outputs": [
    {
     "data": {
      "text/html": [
       "<div>\n",
       "<style scoped>\n",
       "    .dataframe tbody tr th:only-of-type {\n",
       "        vertical-align: middle;\n",
       "    }\n",
       "\n",
       "    .dataframe tbody tr th {\n",
       "        vertical-align: top;\n",
       "    }\n",
       "\n",
       "    .dataframe thead th {\n",
       "        text-align: right;\n",
       "    }\n",
       "</style>\n",
       "<table border=\"1\" class=\"dataframe\">\n",
       "  <thead>\n",
       "    <tr style=\"text-align: right;\">\n",
       "      <th></th>\n",
       "      <th>ANO_EMPENHO</th>\n",
       "      <th>DT_EMPENHO</th>\n",
       "      <th>CD_FUNCAO</th>\n",
       "      <th>DS_FUNCAO</th>\n",
       "      <th>CD_PROGRAMA</th>\n",
       "      <th>DS_PROGRAMA</th>\n",
       "      <th>CD_ORGAO</th>\n",
       "      <th>DS_ORGAO</th>\n",
       "      <th>VL_PAGO</th>\n",
       "    </tr>\n",
       "  </thead>\n",
       "  <tbody>\n",
       "    <tr>\n",
       "      <th>1</th>\n",
       "      <td>2023</td>\n",
       "      <td>2023-02-03</td>\n",
       "      <td>08</td>\n",
       "      <td>ASSISTÊNCIA SOCIAL</td>\n",
       "      <td>0001</td>\n",
       "      <td>PROGRAMA VIVA CURITIBA QUE NÃO DORME</td>\n",
       "      <td>44</td>\n",
       "      <td>FUNDO MUNICIPAL DOS DIREITOS DA PESSOA IDOSA</td>\n",
       "      <td>15,26</td>\n",
       "    </tr>\n",
       "    <tr>\n",
       "      <th>2</th>\n",
       "      <td>2023</td>\n",
       "      <td>2023-02-03</td>\n",
       "      <td>08</td>\n",
       "      <td>ASSISTÊNCIA SOCIAL</td>\n",
       "      <td>0001</td>\n",
       "      <td>PROGRAMA VIVA CURITIBA QUE NÃO DORME</td>\n",
       "      <td>44</td>\n",
       "      <td>FUNDO MUNICIPAL DOS DIREITOS DA PESSOA IDOSA</td>\n",
       "      <td>0,00</td>\n",
       "    </tr>\n",
       "    <tr>\n",
       "      <th>3</th>\n",
       "      <td>2023</td>\n",
       "      <td>2023-03-01</td>\n",
       "      <td>06</td>\n",
       "      <td>SEGURANÇA PÚBLICA</td>\n",
       "      <td>0001</td>\n",
       "      <td>PROGRAMA VIVA CURITIBA QUE NÃO DORME</td>\n",
       "      <td>42</td>\n",
       "      <td>FUNDO MUNICIPAL DE DEFESA CIVIL</td>\n",
       "      <td>NaN</td>\n",
       "    </tr>\n",
       "    <tr>\n",
       "      <th>4</th>\n",
       "      <td>2023</td>\n",
       "      <td>2023-03-16</td>\n",
       "      <td>08</td>\n",
       "      <td>ASSISTÊNCIA SOCIAL</td>\n",
       "      <td>0001</td>\n",
       "      <td>PROGRAMA VIVA CURITIBA QUE NÃO DORME</td>\n",
       "      <td>37</td>\n",
       "      <td>FUNDO MUNICIPAL DE APOIO AO DEFICIENTE</td>\n",
       "      <td>0,00</td>\n",
       "    </tr>\n",
       "    <tr>\n",
       "      <th>5</th>\n",
       "      <td>2023</td>\n",
       "      <td>2023-03-16</td>\n",
       "      <td>08</td>\n",
       "      <td>ASSISTÊNCIA SOCIAL</td>\n",
       "      <td>0001</td>\n",
       "      <td>PROGRAMA VIVA CURITIBA QUE NÃO DORME</td>\n",
       "      <td>37</td>\n",
       "      <td>FUNDO MUNICIPAL DE APOIO AO DEFICIENTE</td>\n",
       "      <td>140400,00</td>\n",
       "    </tr>\n",
       "  </tbody>\n",
       "</table>\n",
       "</div>"
      ],
      "text/plain": [
       "  ANO_EMPENHO  DT_EMPENHO CD_FUNCAO           DS_FUNCAO CD_PROGRAMA  \\\n",
       "1        2023  2023-02-03        08  ASSISTÊNCIA SOCIAL        0001   \n",
       "2        2023  2023-02-03        08  ASSISTÊNCIA SOCIAL        0001   \n",
       "3        2023  2023-03-01        06   SEGURANÇA PÚBLICA        0001   \n",
       "4        2023  2023-03-16        08  ASSISTÊNCIA SOCIAL        0001   \n",
       "5        2023  2023-03-16        08  ASSISTÊNCIA SOCIAL        0001   \n",
       "\n",
       "                            DS_PROGRAMA CD_ORGAO  \\\n",
       "1  PROGRAMA VIVA CURITIBA QUE NÃO DORME       44   \n",
       "2  PROGRAMA VIVA CURITIBA QUE NÃO DORME       44   \n",
       "3  PROGRAMA VIVA CURITIBA QUE NÃO DORME       42   \n",
       "4  PROGRAMA VIVA CURITIBA QUE NÃO DORME       37   \n",
       "5  PROGRAMA VIVA CURITIBA QUE NÃO DORME       37   \n",
       "\n",
       "                                       DS_ORGAO    VL_PAGO  \n",
       "1  FUNDO MUNICIPAL DOS DIREITOS DA PESSOA IDOSA      15,26  \n",
       "2  FUNDO MUNICIPAL DOS DIREITOS DA PESSOA IDOSA       0,00  \n",
       "3               FUNDO MUNICIPAL DE DEFESA CIVIL        NaN  \n",
       "4        FUNDO MUNICIPAL DE APOIO AO DEFICIENTE       0,00  \n",
       "5        FUNDO MUNICIPAL DE APOIO AO DEFICIENTE  140400,00  "
      ]
     },
     "metadata": {},
     "output_type": "display_data"
    }
   ],
   "source": [
    "# Excluindo a linha 0 do dataframe que não contém dados\n",
    "df_despesas = df_despesas.drop(0)\n",
    "\n",
    "# Exibindo o DataFrame atualizado\n",
    "display(df_despesas.head(5))"
   ]
  },
  {
   "cell_type": "code",
   "execution_count": 8,
   "id": "34bdff94",
   "metadata": {},
   "outputs": [
    {
     "data": {
      "text/html": [
       "<div>\n",
       "<style scoped>\n",
       "    .dataframe tbody tr th:only-of-type {\n",
       "        vertical-align: middle;\n",
       "    }\n",
       "\n",
       "    .dataframe tbody tr th {\n",
       "        vertical-align: top;\n",
       "    }\n",
       "\n",
       "    .dataframe thead th {\n",
       "        text-align: right;\n",
       "    }\n",
       "</style>\n",
       "<table border=\"1\" class=\"dataframe\">\n",
       "  <thead>\n",
       "    <tr style=\"text-align: right;\">\n",
       "      <th></th>\n",
       "      <th>ANO_EMPENHO</th>\n",
       "      <th>DT_EMPENHO</th>\n",
       "      <th>CD_FUNCAO</th>\n",
       "      <th>DS_FUNCAO</th>\n",
       "      <th>CD_PROGRAMA</th>\n",
       "      <th>DS_PROGRAMA</th>\n",
       "      <th>CD_ORGAO</th>\n",
       "      <th>DS_ORGAO</th>\n",
       "      <th>VL_PAGO</th>\n",
       "    </tr>\n",
       "  </thead>\n",
       "  <tbody>\n",
       "    <tr>\n",
       "      <th>1</th>\n",
       "      <td>2023-01-01</td>\n",
       "      <td>2023-02-03</td>\n",
       "      <td>08</td>\n",
       "      <td>ASSISTÊNCIA SOCIAL</td>\n",
       "      <td>0001</td>\n",
       "      <td>PROGRAMA VIVA CURITIBA QUE NÃO DORME</td>\n",
       "      <td>44</td>\n",
       "      <td>FUNDO MUNICIPAL DOS DIREITOS DA PESSOA IDOSA</td>\n",
       "      <td>15.26</td>\n",
       "    </tr>\n",
       "    <tr>\n",
       "      <th>2</th>\n",
       "      <td>2023-01-01</td>\n",
       "      <td>2023-02-03</td>\n",
       "      <td>08</td>\n",
       "      <td>ASSISTÊNCIA SOCIAL</td>\n",
       "      <td>0001</td>\n",
       "      <td>PROGRAMA VIVA CURITIBA QUE NÃO DORME</td>\n",
       "      <td>44</td>\n",
       "      <td>FUNDO MUNICIPAL DOS DIREITOS DA PESSOA IDOSA</td>\n",
       "      <td>0.00</td>\n",
       "    </tr>\n",
       "    <tr>\n",
       "      <th>3</th>\n",
       "      <td>2023-01-01</td>\n",
       "      <td>2023-03-01</td>\n",
       "      <td>06</td>\n",
       "      <td>SEGURANÇA PÚBLICA</td>\n",
       "      <td>0001</td>\n",
       "      <td>PROGRAMA VIVA CURITIBA QUE NÃO DORME</td>\n",
       "      <td>42</td>\n",
       "      <td>FUNDO MUNICIPAL DE DEFESA CIVIL</td>\n",
       "      <td>NaN</td>\n",
       "    </tr>\n",
       "    <tr>\n",
       "      <th>4</th>\n",
       "      <td>2023-01-01</td>\n",
       "      <td>2023-03-16</td>\n",
       "      <td>08</td>\n",
       "      <td>ASSISTÊNCIA SOCIAL</td>\n",
       "      <td>0001</td>\n",
       "      <td>PROGRAMA VIVA CURITIBA QUE NÃO DORME</td>\n",
       "      <td>37</td>\n",
       "      <td>FUNDO MUNICIPAL DE APOIO AO DEFICIENTE</td>\n",
       "      <td>0.00</td>\n",
       "    </tr>\n",
       "    <tr>\n",
       "      <th>5</th>\n",
       "      <td>2023-01-01</td>\n",
       "      <td>2023-03-16</td>\n",
       "      <td>08</td>\n",
       "      <td>ASSISTÊNCIA SOCIAL</td>\n",
       "      <td>0001</td>\n",
       "      <td>PROGRAMA VIVA CURITIBA QUE NÃO DORME</td>\n",
       "      <td>37</td>\n",
       "      <td>FUNDO MUNICIPAL DE APOIO AO DEFICIENTE</td>\n",
       "      <td>140400.00</td>\n",
       "    </tr>\n",
       "  </tbody>\n",
       "</table>\n",
       "</div>"
      ],
      "text/plain": [
       "  ANO_EMPENHO DT_EMPENHO CD_FUNCAO           DS_FUNCAO CD_PROGRAMA  \\\n",
       "1  2023-01-01 2023-02-03        08  ASSISTÊNCIA SOCIAL        0001   \n",
       "2  2023-01-01 2023-02-03        08  ASSISTÊNCIA SOCIAL        0001   \n",
       "3  2023-01-01 2023-03-01        06   SEGURANÇA PÚBLICA        0001   \n",
       "4  2023-01-01 2023-03-16        08  ASSISTÊNCIA SOCIAL        0001   \n",
       "5  2023-01-01 2023-03-16        08  ASSISTÊNCIA SOCIAL        0001   \n",
       "\n",
       "                            DS_PROGRAMA CD_ORGAO  \\\n",
       "1  PROGRAMA VIVA CURITIBA QUE NÃO DORME       44   \n",
       "2  PROGRAMA VIVA CURITIBA QUE NÃO DORME       44   \n",
       "3  PROGRAMA VIVA CURITIBA QUE NÃO DORME       42   \n",
       "4  PROGRAMA VIVA CURITIBA QUE NÃO DORME       37   \n",
       "5  PROGRAMA VIVA CURITIBA QUE NÃO DORME       37   \n",
       "\n",
       "                                       DS_ORGAO    VL_PAGO  \n",
       "1  FUNDO MUNICIPAL DOS DIREITOS DA PESSOA IDOSA      15.26  \n",
       "2  FUNDO MUNICIPAL DOS DIREITOS DA PESSOA IDOSA       0.00  \n",
       "3               FUNDO MUNICIPAL DE DEFESA CIVIL        NaN  \n",
       "4        FUNDO MUNICIPAL DE APOIO AO DEFICIENTE       0.00  \n",
       "5        FUNDO MUNICIPAL DE APOIO AO DEFICIENTE  140400.00  "
      ]
     },
     "execution_count": 8,
     "metadata": {},
     "output_type": "execute_result"
    }
   ],
   "source": [
    "df_despesas['VL_PAGO'] = df_despesas['VL_PAGO'].str.replace(',', '.').astype(float)\n",
    "\n",
    "# Convertendo os valores da coluna \"VL_PAGO\" para float\n",
    "df_despesas['VL_PAGO'] = pd.to_numeric(df_despesas['VL_PAGO'])\n",
    "\n",
    "# Convertendo as colunas de data para datetime\n",
    "df_despesas['ANO_EMPENHO'] = pd.to_datetime(df_despesas['ANO_EMPENHO'])\n",
    "df_despesas['DT_EMPENHO'] = pd.to_datetime(df_despesas['DT_EMPENHO'])\n",
    "\n",
    "# Verificando novamente os tipos de dados\n",
    "df_despesas.head()"
   ]
  },
  {
   "cell_type": "code",
   "execution_count": 9,
   "id": "e2be4765",
   "metadata": {},
   "outputs": [
    {
     "name": "stdout",
     "output_type": "stream",
     "text": [
      "<class 'pandas.core.frame.DataFrame'>\n",
      "RangeIndex: 34418 entries, 1 to 34418\n",
      "Data columns (total 9 columns):\n",
      " #   Column       Non-Null Count  Dtype         \n",
      "---  ------       --------------  -----         \n",
      " 0   ANO_EMPENHO  34418 non-null  datetime64[ns]\n",
      " 1   DT_EMPENHO   34418 non-null  datetime64[ns]\n",
      " 2   CD_FUNCAO    34418 non-null  object        \n",
      " 3   DS_FUNCAO    34418 non-null  object        \n",
      " 4   CD_PROGRAMA  34418 non-null  object        \n",
      " 5   DS_PROGRAMA  34418 non-null  object        \n",
      " 6   CD_ORGAO     34418 non-null  object        \n",
      " 7   DS_ORGAO     34418 non-null  object        \n",
      " 8   VL_PAGO      28758 non-null  float64       \n",
      "dtypes: datetime64[ns](2), float64(1), object(6)\n",
      "memory usage: 2.4+ MB\n"
     ]
    }
   ],
   "source": [
    "df_despesas.info()"
   ]
  },
  {
   "cell_type": "markdown",
   "id": "55fdf203",
   "metadata": {},
   "source": [
    "## 3. Preparação e Análise de Dados"
   ]
  },
  {
   "cell_type": "markdown",
   "id": "7dbcf4ad",
   "metadata": {},
   "source": [
    "### 3.1 Preparação e tratamento dos dados"
   ]
  },
  {
   "cell_type": "code",
   "execution_count": 10,
   "id": "89608859",
   "metadata": {},
   "outputs": [
    {
     "name": "stdout",
     "output_type": "stream",
     "text": [
      "ANO_EMPENHO       0\n",
      "DT_EMPENHO        0\n",
      "CD_FUNCAO         0\n",
      "DS_FUNCAO         0\n",
      "CD_PROGRAMA       0\n",
      "DS_PROGRAMA       0\n",
      "CD_ORGAO          0\n",
      "DS_ORGAO          0\n",
      "VL_PAGO        5660\n",
      "dtype: int64\n"
     ]
    }
   ],
   "source": [
    "# Contar o número de valores nulos em cada coluna\n",
    "valores_nulos = df_despesas.isnull().sum()\n",
    "\n",
    "# Exibir o resultado\n",
    "print(valores_nulos)"
   ]
  },
  {
   "cell_type": "code",
   "execution_count": 11,
   "id": "6e4e3a5e",
   "metadata": {},
   "outputs": [
    {
     "data": {
      "text/html": [
       "<div>\n",
       "<style scoped>\n",
       "    .dataframe tbody tr th:only-of-type {\n",
       "        vertical-align: middle;\n",
       "    }\n",
       "\n",
       "    .dataframe tbody tr th {\n",
       "        vertical-align: top;\n",
       "    }\n",
       "\n",
       "    .dataframe thead th {\n",
       "        text-align: right;\n",
       "    }\n",
       "</style>\n",
       "<table border=\"1\" class=\"dataframe\">\n",
       "  <thead>\n",
       "    <tr style=\"text-align: right;\">\n",
       "      <th></th>\n",
       "      <th>ANO_EMPENHO</th>\n",
       "      <th>DT_EMPENHO</th>\n",
       "      <th>CD_FUNCAO</th>\n",
       "      <th>DS_FUNCAO</th>\n",
       "      <th>CD_PROGRAMA</th>\n",
       "      <th>DS_PROGRAMA</th>\n",
       "      <th>CD_ORGAO</th>\n",
       "      <th>DS_ORGAO</th>\n",
       "      <th>VL_PAGO</th>\n",
       "    </tr>\n",
       "  </thead>\n",
       "  <tbody>\n",
       "    <tr>\n",
       "      <th>1</th>\n",
       "      <td>2023-01-01</td>\n",
       "      <td>2023-02-03</td>\n",
       "      <td>08</td>\n",
       "      <td>ASSISTÊNCIA SOCIAL</td>\n",
       "      <td>0001</td>\n",
       "      <td>PROGRAMA VIVA CURITIBA QUE NÃO DORME</td>\n",
       "      <td>44</td>\n",
       "      <td>FUNDO MUNICIPAL DOS DIREITOS DA PESSOA IDOSA</td>\n",
       "      <td>15.26</td>\n",
       "    </tr>\n",
       "    <tr>\n",
       "      <th>2</th>\n",
       "      <td>2023-01-01</td>\n",
       "      <td>2023-02-03</td>\n",
       "      <td>08</td>\n",
       "      <td>ASSISTÊNCIA SOCIAL</td>\n",
       "      <td>0001</td>\n",
       "      <td>PROGRAMA VIVA CURITIBA QUE NÃO DORME</td>\n",
       "      <td>44</td>\n",
       "      <td>FUNDO MUNICIPAL DOS DIREITOS DA PESSOA IDOSA</td>\n",
       "      <td>0.00</td>\n",
       "    </tr>\n",
       "    <tr>\n",
       "      <th>4</th>\n",
       "      <td>2023-01-01</td>\n",
       "      <td>2023-03-16</td>\n",
       "      <td>08</td>\n",
       "      <td>ASSISTÊNCIA SOCIAL</td>\n",
       "      <td>0001</td>\n",
       "      <td>PROGRAMA VIVA CURITIBA QUE NÃO DORME</td>\n",
       "      <td>37</td>\n",
       "      <td>FUNDO MUNICIPAL DE APOIO AO DEFICIENTE</td>\n",
       "      <td>0.00</td>\n",
       "    </tr>\n",
       "    <tr>\n",
       "      <th>5</th>\n",
       "      <td>2023-01-01</td>\n",
       "      <td>2023-03-16</td>\n",
       "      <td>08</td>\n",
       "      <td>ASSISTÊNCIA SOCIAL</td>\n",
       "      <td>0001</td>\n",
       "      <td>PROGRAMA VIVA CURITIBA QUE NÃO DORME</td>\n",
       "      <td>37</td>\n",
       "      <td>FUNDO MUNICIPAL DE APOIO AO DEFICIENTE</td>\n",
       "      <td>140400.00</td>\n",
       "    </tr>\n",
       "    <tr>\n",
       "      <th>6</th>\n",
       "      <td>2023-01-01</td>\n",
       "      <td>2023-03-10</td>\n",
       "      <td>13</td>\n",
       "      <td>CULTURA</td>\n",
       "      <td>0002</td>\n",
       "      <td>PROGRAMA VIVA CURITIBA CIDADÃ</td>\n",
       "      <td>36</td>\n",
       "      <td>FUNDO MUNICIPAL DA CULTURA</td>\n",
       "      <td>0.00</td>\n",
       "    </tr>\n",
       "  </tbody>\n",
       "</table>\n",
       "</div>"
      ],
      "text/plain": [
       "  ANO_EMPENHO DT_EMPENHO CD_FUNCAO           DS_FUNCAO CD_PROGRAMA  \\\n",
       "1  2023-01-01 2023-02-03        08  ASSISTÊNCIA SOCIAL        0001   \n",
       "2  2023-01-01 2023-02-03        08  ASSISTÊNCIA SOCIAL        0001   \n",
       "4  2023-01-01 2023-03-16        08  ASSISTÊNCIA SOCIAL        0001   \n",
       "5  2023-01-01 2023-03-16        08  ASSISTÊNCIA SOCIAL        0001   \n",
       "6  2023-01-01 2023-03-10        13             CULTURA        0002   \n",
       "\n",
       "                            DS_PROGRAMA CD_ORGAO  \\\n",
       "1  PROGRAMA VIVA CURITIBA QUE NÃO DORME       44   \n",
       "2  PROGRAMA VIVA CURITIBA QUE NÃO DORME       44   \n",
       "4  PROGRAMA VIVA CURITIBA QUE NÃO DORME       37   \n",
       "5  PROGRAMA VIVA CURITIBA QUE NÃO DORME       37   \n",
       "6         PROGRAMA VIVA CURITIBA CIDADÃ       36   \n",
       "\n",
       "                                       DS_ORGAO    VL_PAGO  \n",
       "1  FUNDO MUNICIPAL DOS DIREITOS DA PESSOA IDOSA      15.26  \n",
       "2  FUNDO MUNICIPAL DOS DIREITOS DA PESSOA IDOSA       0.00  \n",
       "4        FUNDO MUNICIPAL DE APOIO AO DEFICIENTE       0.00  \n",
       "5        FUNDO MUNICIPAL DE APOIO AO DEFICIENTE  140400.00  \n",
       "6                    FUNDO MUNICIPAL DA CULTURA       0.00  "
      ]
     },
     "execution_count": 11,
     "metadata": {},
     "output_type": "execute_result"
    }
   ],
   "source": [
    "# Removendo as linhas com valores nulos em VL_PAGO\n",
    "df_despesas_sem_nulos = df_despesas.dropna(subset=['VL_PAGO'])\n",
    "df_despesas_sem_nulos.head(5)"
   ]
  },
  {
   "cell_type": "code",
   "execution_count": 12,
   "id": "0d99a43b",
   "metadata": {},
   "outputs": [
    {
     "data": {
      "text/html": [
       "<div>\n",
       "<style scoped>\n",
       "    .dataframe tbody tr th:only-of-type {\n",
       "        vertical-align: middle;\n",
       "    }\n",
       "\n",
       "    .dataframe tbody tr th {\n",
       "        vertical-align: top;\n",
       "    }\n",
       "\n",
       "    .dataframe thead th {\n",
       "        text-align: right;\n",
       "    }\n",
       "</style>\n",
       "<table border=\"1\" class=\"dataframe\">\n",
       "  <thead>\n",
       "    <tr style=\"text-align: right;\">\n",
       "      <th></th>\n",
       "      <th>ANO_EMPENHO</th>\n",
       "      <th>DT_EMPENHO</th>\n",
       "      <th>CD_FUNCAO</th>\n",
       "      <th>DS_FUNCAO</th>\n",
       "      <th>CD_PROGRAMA</th>\n",
       "      <th>DS_PROGRAMA</th>\n",
       "      <th>CD_ORGAO</th>\n",
       "      <th>DS_ORGAO</th>\n",
       "      <th>VL_PAGO</th>\n",
       "    </tr>\n",
       "  </thead>\n",
       "  <tbody>\n",
       "    <tr>\n",
       "      <th>1</th>\n",
       "      <td>2023-01-01</td>\n",
       "      <td>2023-02-03</td>\n",
       "      <td>08</td>\n",
       "      <td>ASSISTÊNCIA SOCIAL</td>\n",
       "      <td>0001</td>\n",
       "      <td>PROGRAMA VIVA CURITIBA QUE NÃO DORME</td>\n",
       "      <td>44</td>\n",
       "      <td>FUNDO MUNICIPAL DOS DIREITOS DA PESSOA IDOSA</td>\n",
       "      <td>15.26</td>\n",
       "    </tr>\n",
       "    <tr>\n",
       "      <th>5</th>\n",
       "      <td>2023-01-01</td>\n",
       "      <td>2023-03-16</td>\n",
       "      <td>08</td>\n",
       "      <td>ASSISTÊNCIA SOCIAL</td>\n",
       "      <td>0001</td>\n",
       "      <td>PROGRAMA VIVA CURITIBA QUE NÃO DORME</td>\n",
       "      <td>37</td>\n",
       "      <td>FUNDO MUNICIPAL DE APOIO AO DEFICIENTE</td>\n",
       "      <td>140400.00</td>\n",
       "    </tr>\n",
       "    <tr>\n",
       "      <th>7</th>\n",
       "      <td>2023-01-01</td>\n",
       "      <td>2023-03-10</td>\n",
       "      <td>13</td>\n",
       "      <td>CULTURA</td>\n",
       "      <td>0002</td>\n",
       "      <td>PROGRAMA VIVA CURITIBA CIDADÃ</td>\n",
       "      <td>36</td>\n",
       "      <td>FUNDO MUNICIPAL DA CULTURA</td>\n",
       "      <td>2500.00</td>\n",
       "    </tr>\n",
       "    <tr>\n",
       "      <th>11</th>\n",
       "      <td>2023-01-01</td>\n",
       "      <td>2023-03-10</td>\n",
       "      <td>13</td>\n",
       "      <td>CULTURA</td>\n",
       "      <td>0002</td>\n",
       "      <td>PROGRAMA VIVA CURITIBA CIDADÃ</td>\n",
       "      <td>36</td>\n",
       "      <td>FUNDO MUNICIPAL DA CULTURA</td>\n",
       "      <td>2500.00</td>\n",
       "    </tr>\n",
       "    <tr>\n",
       "      <th>13</th>\n",
       "      <td>2023-01-01</td>\n",
       "      <td>2023-02-07</td>\n",
       "      <td>08</td>\n",
       "      <td>ASSISTÊNCIA SOCIAL</td>\n",
       "      <td>0001</td>\n",
       "      <td>PROGRAMA VIVA CURITIBA QUE NÃO DORME</td>\n",
       "      <td>44</td>\n",
       "      <td>FUNDO MUNICIPAL DOS DIREITOS DA PESSOA IDOSA</td>\n",
       "      <td>6758.54</td>\n",
       "    </tr>\n",
       "  </tbody>\n",
       "</table>\n",
       "</div>"
      ],
      "text/plain": [
       "   ANO_EMPENHO DT_EMPENHO CD_FUNCAO           DS_FUNCAO CD_PROGRAMA  \\\n",
       "1   2023-01-01 2023-02-03        08  ASSISTÊNCIA SOCIAL        0001   \n",
       "5   2023-01-01 2023-03-16        08  ASSISTÊNCIA SOCIAL        0001   \n",
       "7   2023-01-01 2023-03-10        13             CULTURA        0002   \n",
       "11  2023-01-01 2023-03-10        13             CULTURA        0002   \n",
       "13  2023-01-01 2023-02-07        08  ASSISTÊNCIA SOCIAL        0001   \n",
       "\n",
       "                             DS_PROGRAMA CD_ORGAO  \\\n",
       "1   PROGRAMA VIVA CURITIBA QUE NÃO DORME       44   \n",
       "5   PROGRAMA VIVA CURITIBA QUE NÃO DORME       37   \n",
       "7          PROGRAMA VIVA CURITIBA CIDADÃ       36   \n",
       "11         PROGRAMA VIVA CURITIBA CIDADÃ       36   \n",
       "13  PROGRAMA VIVA CURITIBA QUE NÃO DORME       44   \n",
       "\n",
       "                                        DS_ORGAO    VL_PAGO  \n",
       "1   FUNDO MUNICIPAL DOS DIREITOS DA PESSOA IDOSA      15.26  \n",
       "5         FUNDO MUNICIPAL DE APOIO AO DEFICIENTE  140400.00  \n",
       "7                     FUNDO MUNICIPAL DA CULTURA    2500.00  \n",
       "11                    FUNDO MUNICIPAL DA CULTURA    2500.00  \n",
       "13  FUNDO MUNICIPAL DOS DIREITOS DA PESSOA IDOSA    6758.54  "
      ]
     },
     "execution_count": 12,
     "metadata": {},
     "output_type": "execute_result"
    }
   ],
   "source": [
    "# Removendo todas as linhas em que os valores da coluna  \"VL_PAGO\" são iguais a \"0,00\", visto que essas linhas apresentam \n",
    "# as mesmas informações da despesa da linha anterior, porém, somente com os valores do processo de liquidação da mesma despesa.\n",
    "\n",
    "df_despesas_sem_zeros = df_despesas_sem_nulos[df_despesas_sem_nulos['VL_PAGO'] != 0.0]\n",
    "df_despesas_sem_zeros.head(5)"
   ]
  },
  {
   "cell_type": "code",
   "execution_count": 13,
   "id": "a1b0c1db",
   "metadata": {},
   "outputs": [
    {
     "data": {
      "text/html": [
       "<div>\n",
       "<style scoped>\n",
       "    .dataframe tbody tr th:only-of-type {\n",
       "        vertical-align: middle;\n",
       "    }\n",
       "\n",
       "    .dataframe tbody tr th {\n",
       "        vertical-align: top;\n",
       "    }\n",
       "\n",
       "    .dataframe thead th {\n",
       "        text-align: right;\n",
       "    }\n",
       "</style>\n",
       "<table border=\"1\" class=\"dataframe\">\n",
       "  <thead>\n",
       "    <tr style=\"text-align: right;\">\n",
       "      <th></th>\n",
       "      <th>ANO_EMPENHO</th>\n",
       "      <th>DT_EMPENHO</th>\n",
       "      <th>CD_FUNCAO</th>\n",
       "      <th>DS_FUNCAO</th>\n",
       "      <th>CD_PROGRAMA</th>\n",
       "      <th>DS_PROGRAMA</th>\n",
       "      <th>CD_ORGAO</th>\n",
       "      <th>DS_ORGAO</th>\n",
       "      <th>VL_PAGO</th>\n",
       "    </tr>\n",
       "  </thead>\n",
       "  <tbody>\n",
       "    <tr>\n",
       "      <th>1</th>\n",
       "      <td>2023-01-01</td>\n",
       "      <td>2023-02-03</td>\n",
       "      <td>08</td>\n",
       "      <td>ASSISTÊNCIA SOCIAL</td>\n",
       "      <td>0001</td>\n",
       "      <td>PROGRAMA VIVA CURITIBA QUE NÃO DORME</td>\n",
       "      <td>44</td>\n",
       "      <td>FUNDO MUNICIPAL DOS DIREITOS DA PESSOA IDOSA</td>\n",
       "      <td>15.26</td>\n",
       "    </tr>\n",
       "    <tr>\n",
       "      <th>5</th>\n",
       "      <td>2023-01-01</td>\n",
       "      <td>2023-03-16</td>\n",
       "      <td>08</td>\n",
       "      <td>ASSISTÊNCIA SOCIAL</td>\n",
       "      <td>0001</td>\n",
       "      <td>PROGRAMA VIVA CURITIBA QUE NÃO DORME</td>\n",
       "      <td>37</td>\n",
       "      <td>FUNDO MUNICIPAL DE APOIO AO DEFICIENTE</td>\n",
       "      <td>140400.00</td>\n",
       "    </tr>\n",
       "    <tr>\n",
       "      <th>7</th>\n",
       "      <td>2023-01-01</td>\n",
       "      <td>2023-03-10</td>\n",
       "      <td>13</td>\n",
       "      <td>CULTURA</td>\n",
       "      <td>0002</td>\n",
       "      <td>PROGRAMA VIVA CURITIBA CIDADÃ</td>\n",
       "      <td>36</td>\n",
       "      <td>FUNDO MUNICIPAL DA CULTURA</td>\n",
       "      <td>2500.00</td>\n",
       "    </tr>\n",
       "    <tr>\n",
       "      <th>11</th>\n",
       "      <td>2023-01-01</td>\n",
       "      <td>2023-03-10</td>\n",
       "      <td>13</td>\n",
       "      <td>CULTURA</td>\n",
       "      <td>0002</td>\n",
       "      <td>PROGRAMA VIVA CURITIBA CIDADÃ</td>\n",
       "      <td>36</td>\n",
       "      <td>FUNDO MUNICIPAL DA CULTURA</td>\n",
       "      <td>2500.00</td>\n",
       "    </tr>\n",
       "    <tr>\n",
       "      <th>13</th>\n",
       "      <td>2023-01-01</td>\n",
       "      <td>2023-02-07</td>\n",
       "      <td>08</td>\n",
       "      <td>ASSISTÊNCIA SOCIAL</td>\n",
       "      <td>0001</td>\n",
       "      <td>PROGRAMA VIVA CURITIBA QUE NÃO DORME</td>\n",
       "      <td>44</td>\n",
       "      <td>FUNDO MUNICIPAL DOS DIREITOS DA PESSOA IDOSA</td>\n",
       "      <td>6758.54</td>\n",
       "    </tr>\n",
       "  </tbody>\n",
       "</table>\n",
       "</div>"
      ],
      "text/plain": [
       "   ANO_EMPENHO DT_EMPENHO CD_FUNCAO           DS_FUNCAO CD_PROGRAMA  \\\n",
       "1   2023-01-01 2023-02-03        08  ASSISTÊNCIA SOCIAL        0001   \n",
       "5   2023-01-01 2023-03-16        08  ASSISTÊNCIA SOCIAL        0001   \n",
       "7   2023-01-01 2023-03-10        13             CULTURA        0002   \n",
       "11  2023-01-01 2023-03-10        13             CULTURA        0002   \n",
       "13  2023-01-01 2023-02-07        08  ASSISTÊNCIA SOCIAL        0001   \n",
       "\n",
       "                             DS_PROGRAMA CD_ORGAO  \\\n",
       "1   PROGRAMA VIVA CURITIBA QUE NÃO DORME       44   \n",
       "5   PROGRAMA VIVA CURITIBA QUE NÃO DORME       37   \n",
       "7          PROGRAMA VIVA CURITIBA CIDADÃ       36   \n",
       "11         PROGRAMA VIVA CURITIBA CIDADÃ       36   \n",
       "13  PROGRAMA VIVA CURITIBA QUE NÃO DORME       44   \n",
       "\n",
       "                                        DS_ORGAO    VL_PAGO  \n",
       "1   FUNDO MUNICIPAL DOS DIREITOS DA PESSOA IDOSA      15.26  \n",
       "5         FUNDO MUNICIPAL DE APOIO AO DEFICIENTE  140400.00  \n",
       "7                     FUNDO MUNICIPAL DA CULTURA    2500.00  \n",
       "11                    FUNDO MUNICIPAL DA CULTURA    2500.00  \n",
       "13  FUNDO MUNICIPAL DOS DIREITOS DA PESSOA IDOSA    6758.54  "
      ]
     },
     "execution_count": 13,
     "metadata": {},
     "output_type": "execute_result"
    }
   ],
   "source": [
    "# Atribuindo um df completo final\n",
    "df_final = df_despesas_sem_zeros\n",
    "df_final.head(5)"
   ]
  },
  {
   "cell_type": "code",
   "execution_count": 14,
   "id": "999ec394",
   "metadata": {},
   "outputs": [],
   "source": [
    "# Caminho completo para o arquivo CSV\n",
    "caminho_arquivo = \"C:/Users/asche/Documentos/df_final.csv\"\n",
    "\n",
    "# Salvando df_final como arquivo CSV na pasta Documentos\n",
    "df_final.to_csv(caminho_arquivo, index=False)"
   ]
  },
  {
   "cell_type": "markdown",
   "id": "80e95974",
   "metadata": {},
   "source": [
    "### 3.2 Análise exploratória dos dados"
   ]
  },
  {
   "cell_type": "markdown",
   "id": "f72c5da5",
   "metadata": {},
   "source": [
    "### Análise 1: Estatística descritiva dos dados"
   ]
  },
  {
   "cell_type": "code",
   "execution_count": 15,
   "id": "ba12742b",
   "metadata": {},
   "outputs": [
    {
     "data": {
      "text/plain": [
       "0.01"
      ]
     },
     "execution_count": 15,
     "metadata": {},
     "output_type": "execute_result"
    }
   ],
   "source": [
    "# Valor minimo pago pela prefeitura\n",
    "minimo  = df_final['VL_PAGO'].min()\n",
    "minimo"
   ]
  },
  {
   "cell_type": "code",
   "execution_count": 16,
   "id": "8ff5c541",
   "metadata": {},
   "outputs": [
    {
     "data": {
      "text/plain": [
       "73907894.12"
      ]
     },
     "execution_count": 16,
     "metadata": {},
     "output_type": "execute_result"
    }
   ],
   "source": [
    "# Valor maximo pago pela prefeitura\n",
    "maximo = df_final['VL_PAGO'].max()\n",
    "maximo"
   ]
  },
  {
   "cell_type": "code",
   "execution_count": 17,
   "id": "c917435e",
   "metadata": {},
   "outputs": [
    {
     "data": {
      "text/plain": [
       "148504.68694254966"
      ]
     },
     "execution_count": 17,
     "metadata": {},
     "output_type": "execute_result"
    }
   ],
   "source": [
    "# Media dos valores pagos\n",
    "media  = df_final['VL_PAGO'].mean()\n",
    "media"
   ]
  },
  {
   "cell_type": "code",
   "execution_count": 18,
   "id": "c80303e8",
   "metadata": {},
   "outputs": [
    {
     "data": {
      "text/html": [
       "<div>\n",
       "<style scoped>\n",
       "    .dataframe tbody tr th:only-of-type {\n",
       "        vertical-align: middle;\n",
       "    }\n",
       "\n",
       "    .dataframe tbody tr th {\n",
       "        vertical-align: top;\n",
       "    }\n",
       "\n",
       "    .dataframe thead th {\n",
       "        text-align: right;\n",
       "    }\n",
       "</style>\n",
       "<table border=\"1\" class=\"dataframe\">\n",
       "  <thead>\n",
       "    <tr style=\"text-align: right;\">\n",
       "      <th></th>\n",
       "      <th>VL_PAGO</th>\n",
       "    </tr>\n",
       "  </thead>\n",
       "  <tbody>\n",
       "    <tr>\n",
       "      <th>count</th>\n",
       "      <td>1.319400e+04</td>\n",
       "    </tr>\n",
       "    <tr>\n",
       "      <th>mean</th>\n",
       "      <td>1.485047e+05</td>\n",
       "    </tr>\n",
       "    <tr>\n",
       "      <th>std</th>\n",
       "      <td>1.660922e+06</td>\n",
       "    </tr>\n",
       "    <tr>\n",
       "      <th>min</th>\n",
       "      <td>1.000000e-02</td>\n",
       "    </tr>\n",
       "    <tr>\n",
       "      <th>25%</th>\n",
       "      <td>5.224850e+02</td>\n",
       "    </tr>\n",
       "    <tr>\n",
       "      <th>50%</th>\n",
       "      <td>2.345625e+03</td>\n",
       "    </tr>\n",
       "    <tr>\n",
       "      <th>75%</th>\n",
       "      <td>1.813434e+04</td>\n",
       "    </tr>\n",
       "    <tr>\n",
       "      <th>max</th>\n",
       "      <td>7.390789e+07</td>\n",
       "    </tr>\n",
       "  </tbody>\n",
       "</table>\n",
       "</div>"
      ],
      "text/plain": [
       "            VL_PAGO\n",
       "count  1.319400e+04\n",
       "mean   1.485047e+05\n",
       "std    1.660922e+06\n",
       "min    1.000000e-02\n",
       "25%    5.224850e+02\n",
       "50%    2.345625e+03\n",
       "75%    1.813434e+04\n",
       "max    7.390789e+07"
      ]
     },
     "execution_count": 18,
     "metadata": {},
     "output_type": "execute_result"
    }
   ],
   "source": [
    "# Descrição estatistica geral dos dados\n",
    "df_final.describe()"
   ]
  },
  {
   "cell_type": "markdown",
   "id": "9921de41",
   "metadata": {},
   "source": [
    "### Análise 2: Top 5 funções com mais investimentos"
   ]
  },
  {
   "cell_type": "code",
   "execution_count": 19,
   "id": "362385af",
   "metadata": {},
   "outputs": [
    {
     "data": {
      "text/plain": [
       "DS_FUNCAO\n",
       "SAÚDE                    5.585965e+08\n",
       "PREVIDÊNCIA SOCIAL       5.008502e+08\n",
       "EDUCAÇÃO                 2.942543e+08\n",
       "ADMINISTRAÇÃO            1.315665e+08\n",
       "ENCARGOS ESPECIAIS       1.214971e+08\n",
       "URBANISMO                1.173559e+08\n",
       "SANEAMENTO               6.081908e+07\n",
       "ASSISTÊNCIA SOCIAL       3.844575e+07\n",
       "SEGURANÇA PÚBLICA        3.285447e+07\n",
       "COMÉRCIO E SERVIÇOS      3.175957e+07\n",
       "GESTÃO AMBIENTAL         2.374730e+07\n",
       "CULTURA                  1.680724e+07\n",
       "ESSENCIAL À JUSTIÇA      1.296720e+07\n",
       "DESPORTO E LAZER         9.047104e+06\n",
       "HABITAÇÃO                8.400000e+06\n",
       "TRABALHO                 2.873621e+05\n",
       "DIREITOS DA CIDADANIA    1.153464e+05\n",
       "Name: VL_PAGO, dtype: float64"
      ]
     },
     "metadata": {},
     "output_type": "display_data"
    }
   ],
   "source": [
    "# Soma dos valores investidos em cada função da prefeitura\n",
    "funcao_mais_investimento = df_final.groupby('DS_FUNCAO')['VL_PAGO'].sum().sort_values(ascending=False)\n",
    "display(funcao_mais_investimento)"
   ]
  },
  {
   "cell_type": "code",
   "execution_count": 20,
   "id": "12b6b121",
   "metadata": {},
   "outputs": [],
   "source": [
    "# Ranqueando os investimentos nas funções em um top 5\n",
    "top_5_funcao = funcao_mais_investimento.head(5)"
   ]
  },
  {
   "cell_type": "code",
   "execution_count": 21,
   "id": "59d5d841",
   "metadata": {},
   "outputs": [
    {
     "data": {
      "image/png": "[encoded data removed]",
      "text/plain": [
       "<Figure size 640x480 with 1 Axes>"
      ]
     },
     "metadata": {},
     "output_type": "display_data"
    }
   ],
   "source": [
    "# Plotando um gráfico de pizza do top 5 investimentos em função\n",
    "plt.pie(top_5_funcao, labels=top_5_funcao.index, autopct='%1.1f%%')\n",
    "plt.title('Top 5 investimentos de função em Curitiba')\n",
    "plt.show()"
   ]
  },
  {
   "cell_type": "markdown",
   "id": "e53afe1e",
   "metadata": {},
   "source": [
    "### Análise 3: Top 5 programas com mais investimentos realizados pela prefeitura de Curitiba"
   ]
  },
  {
   "cell_type": "code",
   "execution_count": 22,
   "id": "ce0605f4",
   "metadata": {},
   "outputs": [
    {
     "data": {
      "text/plain": [
       "DS_PROGRAMA\n",
       "PROGRAMA VIVA CURITIBA TRANSPARENTE     6.384365e+08\n",
       "PROGRAMA VIVA CURITIBA SAUDÁVEL         5.585965e+08\n",
       "PROGRAMA VIVA CURITIBA CIDADÃ           3.595568e+08\n",
       "PROGRAMA DE OPERAÇÕES ESPECIAIS         1.214971e+08\n",
       "PROGRAMA VIVA CURITIBA MAIS ÁGIL        1.061653e+08\n",
       "PROGRAMA VIVA UMA NOVA CURITIBA         1.035054e+08\n",
       "PROGRAMA VIVA CURITIBA QUE NÃO DORME    7.151866e+07\n",
       "PROGRAMA VIVA CURITIBA TECNOLÓGICA      9.464699e+04\n",
       "Name: VL_PAGO, dtype: float64"
      ]
     },
     "metadata": {},
     "output_type": "display_data"
    }
   ],
   "source": [
    "# Soma dos valores investidos em cada programa da prefeitura\n",
    "programa_mais_investimento = df_final.groupby('DS_PROGRAMA')['VL_PAGO'].sum().sort_values(ascending=False)\n",
    "display(programa_mais_investimento)"
   ]
  },
  {
   "cell_type": "code",
   "execution_count": 23,
   "id": "1792a5c2",
   "metadata": {},
   "outputs": [],
   "source": [
    "# Ranqueando os investimentos nos programas em um top 5\n",
    "top_5_programa = programa_mais_investimento.head(5)"
   ]
  },
  {
   "cell_type": "code",
   "execution_count": 24,
   "id": "0b1393dc",
   "metadata": {},
   "outputs": [
    {
     "data": {
      "image/png": "[encoded data removed]",
      "text/plain": [
       "<Figure size 640x480 with 1 Axes>"
      ]
     },
     "metadata": {},
     "output_type": "display_data"
    }
   ],
   "source": [
    "# Plotando um gráfico de pizza do top 5 investimentos em programas\n",
    "plt.pie(top_5_programa, labels=top_5_programa.index, autopct='%1.1f%%')\n",
    "plt.title('Top 5 programas com mais investimentos realizados pela Prefeitura de Curitiba')\n",
    "plt.show()"
   ]
  },
  {
   "cell_type": "markdown",
   "id": "7d75526c",
   "metadata": {},
   "source": [
    "### Análise 4: Top 5 órgãos que recebem mais investimentos"
   ]
  },
  {
   "cell_type": "code",
   "execution_count": 25,
   "id": "ad7dbd45",
   "metadata": {},
   "outputs": [
    {
     "data": {
      "text/plain": [
       "DS_ORGAO\n",
       "FUNDO MUNICIPAL DA SAÚDE                                                5.586642e+08\n",
       "INSTITUTO DE PREVIDÊNCIA DOS SERVIDORES DO MUNICÍPIO DE CURITIBA        3.388243e+08\n",
       "SECRETARIA MUNICIPAL DA EDUCAÇÃO                                        2.943312e+08\n",
       "SECRETARIA MUNICIPAL DE ADMINISTRAÇÃO, GESTÃO DE PESSOAL E TEC. INF.    2.373324e+08\n",
       "ENCARGOS GERAIS DO MUNICÍPIO                                            1.278027e+08\n",
       "SECRETARIA MUNICIPAL DO MEIO AMBIENTE                                   8.642717e+07\n",
       "SECRETARIA MUNICIPAL DA DEFESA SOCIAL E TRÂNSITO                        6.432263e+07\n",
       "SECRETARIA MUNICIPAL DE OBRAS PÚBLICAS                                  5.504101e+07\n",
       "FUNDAÇÃO DE AÇÃO SOCIAL                                                 2.554414e+07\n",
       "FUNDO DE ABASTECIMENTO ALIMENTAR DE CURITIBA                            2.477877e+07\n",
       "FUNDO DE URBANIZAÇÃO DE CURITIBA                                        1.977178e+07\n",
       "GOVERNO MUNICIPAL                                                       1.903481e+07\n",
       "FUNDAÇÃO CULTURAL DE CURITIBA                                           1.820697e+07\n",
       "SECRETARIA MUNICIPAL DE PLANEJAMENTO, FINANÇAS E ORÇAMENTO              1.764763e+07\n",
       "FUNDO MUNICIPAL DE ASSISTÊNCIA SOCIAL                                   1.647234e+07\n",
       "PROCURADORIA GERAL DO MUNICÍPIO                                         1.298197e+07\n",
       "INSTITUTO DE PESQUISA E PLANEJAMENTO URBANO DE CURITIBA                 9.579942e+06\n",
       "SECRETARIA MUNICIPAL DO ESPORTE, LAZER E JUVENTUDE                      9.047104e+06\n",
       "SECRETARIA MUNICIPAL DO URBANISMO                                       6.953188e+06\n",
       "SECRETARIA MUNICIPAL DE SEGURANÇA ALIMENTAR E NUTRICIONAL               6.192937e+06\n",
       "INSTITUTO MUNICIPAL DE ADMINISTRAÇÃO PÚBLICA                            4.139547e+06\n",
       "SECRETARIA MUNICIPAL DA COMUNICAÇÃO SOCIAL                              2.993722e+06\n",
       "FUNDO MUNICIPAL PARA CRIANÇA E O ADOLESCENTE                            1.211796e+06\n",
       "INSTITUTO MUNICIPAL DE TURISMO                                          8.766764e+05\n",
       "CONTROLADORIA GERAL DO MUNICÍPIO                                        4.940884e+05\n",
       "FUNDO MUNICIPAL DOS DIREITOS DA PESSOA IDOSA                            4.763894e+05\n",
       "FUNDO MUNICIPAL DE APOIO AO DEFICIENTE                                  1.404000e+05\n",
       "FUNDO MUNICIPAL DA CULTURA                                              8.100000e+04\n",
       "Name: VL_PAGO, dtype: float64"
      ]
     },
     "metadata": {},
     "output_type": "display_data"
    }
   ],
   "source": [
    "# Soma dos valores investidos em cada programa da prefeitura\n",
    "orgao_mais_investimento = df_final.groupby('DS_ORGAO')['VL_PAGO'].sum().sort_values(ascending=False)\n",
    "display(orgao_mais_investimento)"
   ]
  },
  {
   "cell_type": "code",
   "execution_count": 26,
   "id": "7555fa34",
   "metadata": {},
   "outputs": [],
   "source": [
    "# Ranqueando os investimentos nos órgãos em um top 5\n",
    "top_5_orgao = orgao_mais_investimento.head(5)"
   ]
  },
  {
   "cell_type": "code",
   "execution_count": 27,
   "id": "523de201",
   "metadata": {},
   "outputs": [
    {
     "data": {
      "image/png": "[encoded data removed]",
      "text/plain": [
       "<Figure size 640x480 with 1 Axes>"
      ]
     },
     "metadata": {},
     "output_type": "display_data"
    }
   ],
   "source": [
    "# Plotando um gráfico de pizza do top 5 investimentos em órgãos\n",
    "plt.pie(top_5_orgao, labels=top_5_orgao.index, autopct='%1.1f%%')\n",
    "plt.title('Top 5 investimentos em órgãos da Prefeitura de Curitiba')\n",
    "plt.show()"
   ]
  },
  {
   "cell_type": "markdown",
   "id": "0de60338",
   "metadata": {},
   "source": [
    "### Análise 5: Órgãos que recebem investimento com maior frequência"
   ]
  },
  {
   "cell_type": "code",
   "execution_count": 28,
   "id": "747107c4",
   "metadata": {},
   "outputs": [
    {
     "data": {
      "text/html": [
       "<div>\n",
       "<style scoped>\n",
       "    .dataframe tbody tr th:only-of-type {\n",
       "        vertical-align: middle;\n",
       "    }\n",
       "\n",
       "    .dataframe tbody tr th {\n",
       "        vertical-align: top;\n",
       "    }\n",
       "\n",
       "    .dataframe thead th {\n",
       "        text-align: right;\n",
       "    }\n",
       "</style>\n",
       "<table border=\"1\" class=\"dataframe\">\n",
       "  <thead>\n",
       "    <tr style=\"text-align: right;\">\n",
       "      <th></th>\n",
       "      <th>DS_ORGAO</th>\n",
       "      <th>DS_FUNCAO</th>\n",
       "      <th>VL_PAGO</th>\n",
       "      <th>count</th>\n",
       "    </tr>\n",
       "  </thead>\n",
       "  <tbody>\n",
       "    <tr>\n",
       "      <th>6361</th>\n",
       "      <td>SECRETARIA MUNICIPAL DA DEFESA SOCIAL E TRÂNSITO</td>\n",
       "      <td>ENCARGOS ESPECIAIS</td>\n",
       "      <td>104.13</td>\n",
       "      <td>128</td>\n",
       "    </tr>\n",
       "    <tr>\n",
       "      <th>5244</th>\n",
       "      <td>FUNDO MUNICIPAL PARA CRIANÇA E O ADOLESCENTE</td>\n",
       "      <td>ASSISTÊNCIA SOCIAL</td>\n",
       "      <td>998.00</td>\n",
       "      <td>96</td>\n",
       "    </tr>\n",
       "    <tr>\n",
       "      <th>284</th>\n",
       "      <td>ENCARGOS GERAIS DO MUNICÍPIO</td>\n",
       "      <td>ENCARGOS ESPECIAIS</td>\n",
       "      <td>401.79</td>\n",
       "      <td>72</td>\n",
       "    </tr>\n",
       "    <tr>\n",
       "      <th>285</th>\n",
       "      <td>ENCARGOS GERAIS DO MUNICÍPIO</td>\n",
       "      <td>ENCARGOS ESPECIAIS</td>\n",
       "      <td>401.80</td>\n",
       "      <td>57</td>\n",
       "    </tr>\n",
       "    <tr>\n",
       "      <th>4651</th>\n",
       "      <td>FUNDO MUNICIPAL DE ASSISTÊNCIA SOCIAL</td>\n",
       "      <td>ASSISTÊNCIA SOCIAL</td>\n",
       "      <td>305.32</td>\n",
       "      <td>48</td>\n",
       "    </tr>\n",
       "    <tr>\n",
       "      <th>...</th>\n",
       "      <td>...</td>\n",
       "      <td>...</td>\n",
       "      <td>...</td>\n",
       "      <td>...</td>\n",
       "    </tr>\n",
       "    <tr>\n",
       "      <th>3030</th>\n",
       "      <td>FUNDO MUNICIPAL DA SAÚDE</td>\n",
       "      <td>SAÚDE</td>\n",
       "      <td>7.88</td>\n",
       "      <td>1</td>\n",
       "    </tr>\n",
       "    <tr>\n",
       "      <th>3029</th>\n",
       "      <td>FUNDO MUNICIPAL DA SAÚDE</td>\n",
       "      <td>SAÚDE</td>\n",
       "      <td>7.49</td>\n",
       "      <td>1</td>\n",
       "    </tr>\n",
       "    <tr>\n",
       "      <th>3028</th>\n",
       "      <td>FUNDO MUNICIPAL DA SAÚDE</td>\n",
       "      <td>SAÚDE</td>\n",
       "      <td>6.31</td>\n",
       "      <td>1</td>\n",
       "    </tr>\n",
       "    <tr>\n",
       "      <th>3027</th>\n",
       "      <td>FUNDO MUNICIPAL DA SAÚDE</td>\n",
       "      <td>SAÚDE</td>\n",
       "      <td>2.12</td>\n",
       "      <td>1</td>\n",
       "    </tr>\n",
       "    <tr>\n",
       "      <th>8631</th>\n",
       "      <td>SECRETARIA MUNICIPAL DO URBANISMO</td>\n",
       "      <td>URBANISMO</td>\n",
       "      <td>942684.45</td>\n",
       "      <td>1</td>\n",
       "    </tr>\n",
       "  </tbody>\n",
       "</table>\n",
       "<p>8632 rows × 4 columns</p>\n",
       "</div>"
      ],
      "text/plain": [
       "                                              DS_ORGAO           DS_FUNCAO  \\\n",
       "6361  SECRETARIA MUNICIPAL DA DEFESA SOCIAL E TRÂNSITO  ENCARGOS ESPECIAIS   \n",
       "5244      FUNDO MUNICIPAL PARA CRIANÇA E O ADOLESCENTE  ASSISTÊNCIA SOCIAL   \n",
       "284                       ENCARGOS GERAIS DO MUNICÍPIO  ENCARGOS ESPECIAIS   \n",
       "285                       ENCARGOS GERAIS DO MUNICÍPIO  ENCARGOS ESPECIAIS   \n",
       "4651             FUNDO MUNICIPAL DE ASSISTÊNCIA SOCIAL  ASSISTÊNCIA SOCIAL   \n",
       "...                                                ...                 ...   \n",
       "3030                          FUNDO MUNICIPAL DA SAÚDE               SAÚDE   \n",
       "3029                          FUNDO MUNICIPAL DA SAÚDE               SAÚDE   \n",
       "3028                          FUNDO MUNICIPAL DA SAÚDE               SAÚDE   \n",
       "3027                          FUNDO MUNICIPAL DA SAÚDE               SAÚDE   \n",
       "8631                 SECRETARIA MUNICIPAL DO URBANISMO           URBANISMO   \n",
       "\n",
       "        VL_PAGO  count  \n",
       "6361     104.13    128  \n",
       "5244     998.00     96  \n",
       "284      401.79     72  \n",
       "285      401.80     57  \n",
       "4651     305.32     48  \n",
       "...         ...    ...  \n",
       "3030       7.88      1  \n",
       "3029       7.49      1  \n",
       "3028       6.31      1  \n",
       "3027       2.12      1  \n",
       "8631  942684.45      1  \n",
       "\n",
       "[8632 rows x 4 columns]"
      ]
     },
     "metadata": {},
     "output_type": "display_data"
    }
   ],
   "source": [
    "# Orgaos que recebem investimento com mais frequencia\n",
    "orgao_funcao_investimento_a = df_final.groupby(['DS_ORGAO', 'DS_FUNCAO', 'VL_PAGO']).size().reset_index(name='count')\n",
    "orgao_funcao_investimento = orgao_funcao_investimento_a.sort_values('count', ascending=False)\n",
    "display(orgao_funcao_investimento)"
   ]
  },
  {
   "cell_type": "code",
   "execution_count": 29,
   "id": "66c5b05b",
   "metadata": {},
   "outputs": [],
   "source": [
    "top5_orgao = orgao_funcao_investimento.head(5)"
   ]
  },
  {
   "cell_type": "code",
   "execution_count": 30,
   "id": "d9957bde",
   "metadata": {},
   "outputs": [
    {
     "data": {
      "image/png": "[encoded data removed]",
      "text/plain": [
       "<Figure size 640x480 with 1 Axes>"
      ]
     },
     "metadata": {},
     "output_type": "display_data"
    }
   ],
   "source": [
    "plt.barh(range(len(top5_orgao)), top5_orgao['count'], tick_label=top5_orgao['DS_ORGAO'])\n",
    "plt.xlabel('Recorrência de investimento')\n",
    "plt.ylabel('Órgão')\n",
    "plt.title('Top 5 órgãos que recebem investimento com maior frequência')\n",
    "\n",
    "plt.show()"
   ]
  },
  {
   "cell_type": "markdown",
   "id": "d62bf150",
   "metadata": {},
   "source": [
    "### Análise 6: Dias de maior investimento público "
   ]
  },
  {
   "cell_type": "code",
   "execution_count": 31,
   "id": "50e491f1",
   "metadata": {},
   "outputs": [
    {
     "data": {
      "text/html": [
       "<div>\n",
       "<style scoped>\n",
       "    .dataframe tbody tr th:only-of-type {\n",
       "        vertical-align: middle;\n",
       "    }\n",
       "\n",
       "    .dataframe tbody tr th {\n",
       "        vertical-align: top;\n",
       "    }\n",
       "\n",
       "    .dataframe thead th {\n",
       "        text-align: right;\n",
       "    }\n",
       "</style>\n",
       "<table border=\"1\" class=\"dataframe\">\n",
       "  <thead>\n",
       "    <tr style=\"text-align: right;\">\n",
       "      <th></th>\n",
       "      <th>DT_EMPENHO</th>\n",
       "      <th>DS_ORGAO</th>\n",
       "      <th>VL_PAGO</th>\n",
       "      <th>count</th>\n",
       "    </tr>\n",
       "  </thead>\n",
       "  <tbody>\n",
       "    <tr>\n",
       "      <th>7438</th>\n",
       "      <td>2023-03-24</td>\n",
       "      <td>INSTITUTO DE PREVIDÊNCIA DOS SERVIDORES DO MUN...</td>\n",
       "      <td>73907894.12</td>\n",
       "      <td>1</td>\n",
       "    </tr>\n",
       "    <tr>\n",
       "      <th>3366</th>\n",
       "      <td>2023-02-23</td>\n",
       "      <td>INSTITUTO DE PREVIDÊNCIA DOS SERVIDORES DO MUN...</td>\n",
       "      <td>73731323.54</td>\n",
       "      <td>1</td>\n",
       "    </tr>\n",
       "    <tr>\n",
       "      <th>9723</th>\n",
       "      <td>2023-04-20</td>\n",
       "      <td>INSTITUTO DE PREVIDÊNCIA DOS SERVIDORES DO MUN...</td>\n",
       "      <td>72974037.04</td>\n",
       "      <td>1</td>\n",
       "    </tr>\n",
       "    <tr>\n",
       "      <th>8122</th>\n",
       "      <td>2023-04-03</td>\n",
       "      <td>INSTITUTO DE PREVIDÊNCIA DOS SERVIDORES DO MUN...</td>\n",
       "      <td>59941865.10</td>\n",
       "      <td>1</td>\n",
       "    </tr>\n",
       "    <tr>\n",
       "      <th>4016</th>\n",
       "      <td>2023-03-02</td>\n",
       "      <td>SECRETARIA MUNICIPAL DE ADMINISTRAÇÃO, GESTÃO ...</td>\n",
       "      <td>51346675.04</td>\n",
       "      <td>1</td>\n",
       "    </tr>\n",
       "  </tbody>\n",
       "</table>\n",
       "</div>"
      ],
      "text/plain": [
       "     DT_EMPENHO                                           DS_ORGAO  \\\n",
       "7438 2023-03-24  INSTITUTO DE PREVIDÊNCIA DOS SERVIDORES DO MUN...   \n",
       "3366 2023-02-23  INSTITUTO DE PREVIDÊNCIA DOS SERVIDORES DO MUN...   \n",
       "9723 2023-04-20  INSTITUTO DE PREVIDÊNCIA DOS SERVIDORES DO MUN...   \n",
       "8122 2023-04-03  INSTITUTO DE PREVIDÊNCIA DOS SERVIDORES DO MUN...   \n",
       "4016 2023-03-02  SECRETARIA MUNICIPAL DE ADMINISTRAÇÃO, GESTÃO ...   \n",
       "\n",
       "          VL_PAGO  count  \n",
       "7438  73907894.12      1  \n",
       "3366  73731323.54      1  \n",
       "9723  72974037.04      1  \n",
       "8122  59941865.10      1  \n",
       "4016  51346675.04      1  "
      ]
     },
     "execution_count": 31,
     "metadata": {},
     "output_type": "execute_result"
    }
   ],
   "source": [
    "# Dias de MAIS investimento por Orgao publico e seus valores\n",
    "orgao_mais_investimento_ano_a = df_final.groupby(['DT_EMPENHO', 'DS_ORGAO', 'VL_PAGO']).size().reset_index(name='count')\n",
    "orgao_mais_investimento_ano = orgao_mais_investimento_ano_a.sort_values('VL_PAGO', ascending=False)\n",
    "top25 = orgao_mais_investimento_ano.head(25)\n",
    "top25.head()"
   ]
  },
  {
   "cell_type": "code",
   "execution_count": 32,
   "id": "e0b5e71f",
   "metadata": {},
   "outputs": [
    {
     "data": {
      "image/png": "[encoded data removed]",
      "text/plain": [
       "<Figure size 640x480 with 1 Axes>"
      ]
     },
     "metadata": {},
     "output_type": "display_data"
    }
   ],
   "source": [
    "# Plotando grafico com os 25 primeiros valores para visualização\n",
    "top25.plot(x='DT_EMPENHO', y='VL_PAGO', kind='bar', legend=None)\n",
    "plt.xlabel('DATA')\n",
    "plt.ylabel('Valor do Investimento em R$')\n",
    "plt.title('Dias de maior investimento')\n",
    "plt.show()"
   ]
  },
  {
   "cell_type": "markdown",
   "id": "d9815ee4",
   "metadata": {},
   "source": [
    "### 3.5 Experimentos com frameworks de big data\n",
    "Na sequência, serão realizadas as mesmas análises do tópico \"3.2 Análise Exploratória dos dados\", contudo, para essas análises serâo utilizadas técnicas e frameworks de Big Data"
   ]
  },
  {
   "cell_type": "code",
   "execution_count": 33,
   "id": "67e75bb8",
   "metadata": {},
   "outputs": [],
   "source": [
    "# Cria uma instância do SparkSession\n",
    "spark = SparkSession.builder.getOrCreate()\n",
    "\n",
    "# Lendo o arquivo df_final e carregando os dados em um DataFrame\n",
    "df = spark.read.csv(\"C:/Users/asche/Documentos/df_final.csv\", header=True, sep=\",\")"
   ]
  },
  {
   "cell_type": "code",
   "execution_count": 34,
   "id": "b7057e1d",
   "metadata": {},
   "outputs": [
    {
     "name": "stdout",
     "output_type": "stream",
     "text": [
      "root\n",
      " |-- ANO_EMPENHO: string (nullable = true)\n",
      " |-- DT_EMPENHO: string (nullable = true)\n",
      " |-- CD_FUNCAO: string (nullable = true)\n",
      " |-- DS_FUNCAO: string (nullable = true)\n",
      " |-- CD_PROGRAMA: string (nullable = true)\n",
      " |-- DS_PROGRAMA: string (nullable = true)\n",
      " |-- CD_ORGAO: string (nullable = true)\n",
      " |-- DS_ORGAO: string (nullable = true)\n",
      " |-- VL_PAGO: string (nullable = true)\n",
      "\n"
     ]
    }
   ],
   "source": [
    "# Verificando o formato do arquivo \n",
    "df.printSchema()"
   ]
  },
  {
   "cell_type": "code",
   "execution_count": 35,
   "id": "b46c556b",
   "metadata": {},
   "outputs": [
    {
     "data": {
      "text/html": [
       "<div>\n",
       "<style scoped>\n",
       "    .dataframe tbody tr th:only-of-type {\n",
       "        vertical-align: middle;\n",
       "    }\n",
       "\n",
       "    .dataframe tbody tr th {\n",
       "        vertical-align: top;\n",
       "    }\n",
       "\n",
       "    .dataframe thead th {\n",
       "        text-align: right;\n",
       "    }\n",
       "</style>\n",
       "<table border=\"1\" class=\"dataframe\">\n",
       "  <thead>\n",
       "    <tr style=\"text-align: right;\">\n",
       "      <th></th>\n",
       "      <th>ANO_EMPENHO</th>\n",
       "      <th>DT_EMPENHO</th>\n",
       "      <th>CD_FUNCAO</th>\n",
       "      <th>DS_FUNCAO</th>\n",
       "      <th>CD_PROGRAMA</th>\n",
       "      <th>DS_PROGRAMA</th>\n",
       "      <th>CD_ORGAO</th>\n",
       "      <th>DS_ORGAO</th>\n",
       "      <th>VL_PAGO</th>\n",
       "    </tr>\n",
       "  </thead>\n",
       "  <tbody>\n",
       "    <tr>\n",
       "      <th>0</th>\n",
       "      <td>2023-01-01</td>\n",
       "      <td>2023-02-03</td>\n",
       "      <td>08</td>\n",
       "      <td>ASSISTÊNCIA SOCIAL</td>\n",
       "      <td>0001</td>\n",
       "      <td>PROGRAMA VIVA CURITIBA QUE NÃO DORME</td>\n",
       "      <td>44</td>\n",
       "      <td>FUNDO MUNICIPAL DOS DIREITOS DA PESSOA IDOSA</td>\n",
       "      <td>15.26</td>\n",
       "    </tr>\n",
       "    <tr>\n",
       "      <th>1</th>\n",
       "      <td>2023-01-01</td>\n",
       "      <td>2023-03-16</td>\n",
       "      <td>08</td>\n",
       "      <td>ASSISTÊNCIA SOCIAL</td>\n",
       "      <td>0001</td>\n",
       "      <td>PROGRAMA VIVA CURITIBA QUE NÃO DORME</td>\n",
       "      <td>37</td>\n",
       "      <td>FUNDO MUNICIPAL DE APOIO AO DEFICIENTE</td>\n",
       "      <td>140400.0</td>\n",
       "    </tr>\n",
       "    <tr>\n",
       "      <th>2</th>\n",
       "      <td>2023-01-01</td>\n",
       "      <td>2023-03-10</td>\n",
       "      <td>13</td>\n",
       "      <td>CULTURA</td>\n",
       "      <td>0002</td>\n",
       "      <td>PROGRAMA VIVA CURITIBA CIDADÃ</td>\n",
       "      <td>36</td>\n",
       "      <td>FUNDO MUNICIPAL DA CULTURA</td>\n",
       "      <td>2500.0</td>\n",
       "    </tr>\n",
       "    <tr>\n",
       "      <th>3</th>\n",
       "      <td>2023-01-01</td>\n",
       "      <td>2023-03-10</td>\n",
       "      <td>13</td>\n",
       "      <td>CULTURA</td>\n",
       "      <td>0002</td>\n",
       "      <td>PROGRAMA VIVA CURITIBA CIDADÃ</td>\n",
       "      <td>36</td>\n",
       "      <td>FUNDO MUNICIPAL DA CULTURA</td>\n",
       "      <td>2500.0</td>\n",
       "    </tr>\n",
       "    <tr>\n",
       "      <th>4</th>\n",
       "      <td>2023-01-01</td>\n",
       "      <td>2023-02-07</td>\n",
       "      <td>08</td>\n",
       "      <td>ASSISTÊNCIA SOCIAL</td>\n",
       "      <td>0001</td>\n",
       "      <td>PROGRAMA VIVA CURITIBA QUE NÃO DORME</td>\n",
       "      <td>44</td>\n",
       "      <td>FUNDO MUNICIPAL DOS DIREITOS DA PESSOA IDOSA</td>\n",
       "      <td>6758.54</td>\n",
       "    </tr>\n",
       "  </tbody>\n",
       "</table>\n",
       "</div>"
      ],
      "text/plain": [
       "  ANO_EMPENHO  DT_EMPENHO CD_FUNCAO           DS_FUNCAO CD_PROGRAMA  \\\n",
       "0  2023-01-01  2023-02-03        08  ASSISTÊNCIA SOCIAL        0001   \n",
       "1  2023-01-01  2023-03-16        08  ASSISTÊNCIA SOCIAL        0001   \n",
       "2  2023-01-01  2023-03-10        13             CULTURA        0002   \n",
       "3  2023-01-01  2023-03-10        13             CULTURA        0002   \n",
       "4  2023-01-01  2023-02-07        08  ASSISTÊNCIA SOCIAL        0001   \n",
       "\n",
       "                            DS_PROGRAMA CD_ORGAO  \\\n",
       "0  PROGRAMA VIVA CURITIBA QUE NÃO DORME       44   \n",
       "1  PROGRAMA VIVA CURITIBA QUE NÃO DORME       37   \n",
       "2         PROGRAMA VIVA CURITIBA CIDADÃ       36   \n",
       "3         PROGRAMA VIVA CURITIBA CIDADÃ       36   \n",
       "4  PROGRAMA VIVA CURITIBA QUE NÃO DORME       44   \n",
       "\n",
       "                                       DS_ORGAO   VL_PAGO  \n",
       "0  FUNDO MUNICIPAL DOS DIREITOS DA PESSOA IDOSA     15.26  \n",
       "1        FUNDO MUNICIPAL DE APOIO AO DEFICIENTE  140400.0  \n",
       "2                    FUNDO MUNICIPAL DA CULTURA    2500.0  \n",
       "3                    FUNDO MUNICIPAL DA CULTURA    2500.0  \n",
       "4  FUNDO MUNICIPAL DOS DIREITOS DA PESSOA IDOSA   6758.54  "
      ]
     },
     "execution_count": 35,
     "metadata": {},
     "output_type": "execute_result"
    }
   ],
   "source": [
    "# Verificando as 5 primeiras linhas usando o formato do Pandas\n",
    "df.limit(5).toPandas()"
   ]
  },
  {
   "cell_type": "markdown",
   "id": "3c29d960",
   "metadata": {},
   "source": [
    "### Análise 1: Estatística descritiva dos dados utilizando frameworks de Big Data "
   ]
  },
  {
   "cell_type": "code",
   "execution_count": 36,
   "id": "c5138eb8",
   "metadata": {},
   "outputs": [
    {
     "name": "stdout",
     "output_type": "stream",
     "text": [
      "+-----+------------------+------------------+----+--------+------+------+-------+\n",
      "|Count|              Mean|            StdDev| Min|     Max|    Q1|    Q2|     Q3|\n",
      "+-----+------------------+------------------+----+--------+------+------+-------+\n",
      "|13194|148504.68694255126|1660922.1685403786|0.01|99988.37|522.48|2344.0|18095.0|\n",
      "+-----+------------------+------------------+----+--------+------+------+-------+\n",
      "\n"
     ]
    }
   ],
   "source": [
    "# Criando uma visualização temporária para o DF\n",
    "df.createOrReplaceTempView(\"df_temp\")\n",
    "\n",
    "# Executando uma consulta SQL que mostre a estatística descritiva do conjunto de dados\n",
    "query = \"\"\"\n",
    "    SELECT \n",
    "        COUNT(*) AS Count, \n",
    "        AVG(VL_PAGO) AS Mean, \n",
    "        STDDEV(VL_PAGO) AS StdDev, \n",
    "        MIN(VL_PAGO) AS Min, \n",
    "        MAX(VL_PAGO) AS Max, \n",
    "        percentile_approx(VL_PAGO, 0.25) AS Q1, \n",
    "        percentile_approx(VL_PAGO, 0.5) AS Q2, \n",
    "        percentile_approx(VL_PAGO, 0.75) AS Q3\n",
    "    FROM df_temp\n",
    "\"\"\"\n",
    "estatistica_descritiva = spark.sql(query)\n",
    "\n",
    "# Exibir a estatística descritiva e os quartis\n",
    "estatistica_descritiva.show()"
   ]
  },
  {
   "cell_type": "markdown",
   "id": "11cbd9c9",
   "metadata": {},
   "source": [
    "### Análise 2: Top 5 funções com maior despesa realizada pela Prefeitura de Curitiba"
   ]
  },
  {
   "cell_type": "code",
   "execution_count": 37,
   "id": "ae41735a",
   "metadata": {},
   "outputs": [
    {
     "name": "stdout",
     "output_type": "stream",
     "text": [
      "+------------------+--------------------+\n",
      "|         DS_FUNCAO|        DespesaTotal|\n",
      "+------------------+--------------------+\n",
      "|             SAÚDE| 5.585964813499993E8|\n",
      "|PREVIDÊNCIA SOCIAL| 5.008501598900002E8|\n",
      "|          EDUCAÇÃO| 2.942543448899998E8|\n",
      "|     ADMINISTRAÇÃO|1.3156648564000002E8|\n",
      "|ENCARGOS ESPECIAIS|1.2149707282000008E8|\n",
      "+------------------+--------------------+\n",
      "\n"
     ]
    }
   ],
   "source": [
    "# Executar uma consulta SQL para obter as 5 funções que mais gastaram em Curitiba\n",
    "query = \"\"\"\n",
    "    SELECT DS_FUNCAO, SUM(VL_PAGO) AS DespesaTotal\n",
    "    FROM df_temp\n",
    "    GROUP BY DS_FUNCAO\n",
    "    ORDER BY DespesaTotal DESC\n",
    "    LIMIT 5\n",
    "\"\"\"\n",
    "\n",
    "despesa_total_por_funcao = spark.sql(query)\n",
    "\n",
    "# Mostrando as 5 funções que mais gastaram \n",
    "despesa_total_por_funcao.show()"
   ]
  },
  {
   "cell_type": "markdown",
   "id": "ead4c97a",
   "metadata": {},
   "source": [
    "### Análise 3: Top 5 programas com maior despesa realizada pela Prefeitura de Curitiba"
   ]
  },
  {
   "cell_type": "code",
   "execution_count": 38,
   "id": "10d9aeed",
   "metadata": {},
   "outputs": [
    {
     "data": {
      "image/png": "[encoded data removed]",
      "text/plain": [
       "<Figure size 640x480 with 1 Axes>"
      ]
     },
     "metadata": {},
     "output_type": "display_data"
    }
   ],
   "source": [
    "# Executando uma consulta SQL para obter os 5 programas com maiores despesas\n",
    "query = \"\"\"\n",
    "    SELECT DS_PROGRAMA, SUM(VL_PAGO) AS DespesaTotal\n",
    "    FROM df_temp\n",
    "    GROUP BY DS_PROGRAMA\n",
    "    ORDER BY DespesaTotal DESC\n",
    "    LIMIT 5\n",
    "\"\"\"\n",
    "\n",
    "despesa_total_por_programa = spark.sql(query)\n",
    "\n",
    "# Coletando os dados do DataFrame resultante\n",
    "dados = despesa_total_por_programa.collect()\n",
    "\n",
    "# Extraindo os nomes dos programas e os valores das despesas\n",
    "programas = [row[\"DS_PROGRAMA\"] for row in dados]\n",
    "despesas = [row[\"DespesaTotal\"] for row in dados]\n",
    "\n",
    "# Configurando o gráfico\n",
    "plt.pie(despesas, labels=programas, autopct='%1.1f%%', startangle=80)\n",
    "\n",
    "# Inserindo um título no gráfico\n",
    "plt.title(\"Top 5 programas com maior despesa realizada pela Prefeitura de Curitiba \")\n",
    "\n",
    "# Mostrando o gráfico\n",
    "plt.show()"
   ]
  },
  {
   "cell_type": "markdown",
   "id": "e8e988e7",
   "metadata": {},
   "source": [
    "### Análise 4: Top 5 órgãos que mais gastam na Prefeitura de Curitiba"
   ]
  },
  {
   "cell_type": "code",
   "execution_count": 39,
   "id": "5df1c34f",
   "metadata": {},
   "outputs": [
    {
     "name": "stdout",
     "output_type": "stream",
     "text": [
      "                                            DS_ORGAO    TotalGasto\n",
      "0                           FUNDO MUNICIPAL DA SAÚDE  5.586642e+08\n",
      "1  INSTITUTO DE PREVIDÊNCIA DOS SERVIDORES DO MUN...  3.388243e+08\n",
      "2                   SECRETARIA MUNICIPAL DA EDUCAÇÃO  2.943312e+08\n",
      "3  SECRETARIA MUNICIPAL DE ADMINISTRAÇÃO, GESTÃO ...  2.373324e+08\n",
      "4                       ENCARGOS GERAIS DO MUNICÍPIO  1.278027e+08\n"
     ]
    }
   ],
   "source": [
    "# Executando uma consulta SQL para obter os 5 órgãos que mais gastaram em Curitiba\n",
    "query = \"\"\"\n",
    "    SELECT DS_ORGAO, SUM(VL_PAGO) AS TotalGasto\n",
    "    FROM df_temp\n",
    "    GROUP BY DS_ORGAO\n",
    "    ORDER BY TotalGasto DESC\n",
    "    LIMIT 5\n",
    "\"\"\"\n",
    "\n",
    "orgaos_mais_gastaram = spark.sql(query)\n",
    "\n",
    "# Convertendo para um DF do Pandas\n",
    "orgaos_mais_gastaram_pandas = orgaos_mais_gastaram.toPandas()\n",
    "\n",
    "# Exibir a tabela\n",
    "print(orgaos_mais_gastaram_pandas)"
   ]
  },
  {
   "cell_type": "markdown",
   "id": "905c5229",
   "metadata": {},
   "source": [
    "### Análise 5: Top 5 órgãos que gastam com maior frequência na Prefeitura de Curitiba"
   ]
  },
  {
   "cell_type": "code",
   "execution_count": 40,
   "id": "42d60a30",
   "metadata": {},
   "outputs": [
    {
     "name": "stdout",
     "output_type": "stream",
     "text": [
      "                                           DS_ORGAO  Frequencia\n",
      "0                      ENCARGOS GERAIS DO MUNICÍPIO        2459\n",
      "1                          FUNDO MUNICIPAL DA SAÚDE        2209\n",
      "2             FUNDO MUNICIPAL DE ASSISTÊNCIA SOCIAL        1806\n",
      "3                  SECRETARIA MUNICIPAL DA EDUCAÇÃO         863\n",
      "4  SECRETARIA MUNICIPAL DA DEFESA SOCIAL E TRÂNSITO         680\n"
     ]
    },
    {
     "data": {
      "image/png": "[encoded data removed]",
      "text/plain": [
       "<Figure size 640x480 with 1 Axes>"
      ]
     },
     "metadata": {},
     "output_type": "display_data"
    }
   ],
   "source": [
    "# Executando uma consulta SQL para obter os 5 órgãos que gastam com maior frequência na Prefeitura de Curitiba\n",
    "query = \"\"\"\n",
    "    SELECT DS_ORGAO, COUNT(*) AS Frequencia\n",
    "    FROM df_temp\n",
    "    GROUP BY DS_ORGAO\n",
    "    ORDER BY Frequencia DESC\n",
    "    LIMIT 5\n",
    "\"\"\"\n",
    "\n",
    "orgaos_gastam_maior_frequencia = spark.sql(query)\n",
    "\n",
    "# Convertendo para um DF do Pandas\n",
    "orgaos_gastam_maior_frequencia_pandas = orgaos_gastam_maior_frequencia.toPandas()\n",
    "\n",
    "# Exibindo a tabela\n",
    "print(orgaos_gastam_maior_frequencia_pandas)\n",
    "\n",
    "# Configurando o gráfico\n",
    "plt.barh(orgaos_gastam_maior_frequencia_pandas['DS_ORGAO'], orgaos_gastam_maior_frequencia_pandas['Frequencia'])\n",
    "\n",
    "# Adicionando rótulos nos eixos x e y\n",
    "plt.xlabel('Frequência')\n",
    "plt.ylabel('Órgãos')\n",
    "\n",
    "# Adicionando um título ao gráfico\n",
    "plt.title('Top 5 órgãos que gastam com maior frequência na Prefeitura de Curitiba')\n",
    "\n",
    "# Exibindo o gráfico\n",
    "plt.show()"
   ]
  },
  {
   "cell_type": "markdown",
   "id": "13f0973c",
   "metadata": {},
   "source": [
    "### Análise 6: Datas com maiores gastos realizados pela Prefeitura de Curitiba"
   ]
  },
  {
   "cell_type": "code",
   "execution_count": 41,
   "id": "adab9184",
   "metadata": {},
   "outputs": [
    {
     "data": {
      "image/png": "[encoded data removed]",
      "text/plain": [
       "<Figure size 640x480 with 1 Axes>"
      ]
     },
     "metadata": {},
     "output_type": "display_data"
    }
   ],
   "source": [
    "# Executando uma consulta SQL para obter as datas com maiores gastos realizados\n",
    "query = \"\"\"\n",
    "    SELECT DT_EMPENHO, SUM(VL_PAGO) AS TotalGasto\n",
    "    FROM df_temp\n",
    "    GROUP BY DT_EMPENHO\n",
    "    ORDER BY TotalGasto DESC\n",
    "    LIMIT 10\n",
    "\"\"\"\n",
    "\n",
    "data_maiores_gastos = spark.sql(query)\n",
    "\n",
    "# Convertendo para um DF Pandas\n",
    "data_maiores_gastos_pandas = data_maiores_gastos.toPandas()\n",
    "\n",
    "# Configurando o gráfico de barras\n",
    "plt.bar(data_maiores_gastos_pandas['DT_EMPENHO'], data_maiores_gastos_pandas['TotalGasto'])\n",
    "\n",
    "# Colocando os rótulos do eixo x em 45 graus para melhor visualização\n",
    "plt.xticks(rotation=45, ha='right')\n",
    "\n",
    "# Adicionando rótulos nos eixos x e y\n",
    "plt.xlabel('Data')\n",
    "plt.ylabel('Total de Gastos')\n",
    "\n",
    "# Adicionando um título ao gráfico\n",
    "plt.title('Datas com maiores gastos realizados pela Prefeitura de Curitiba')\n",
    "\n",
    "# Exibir o gráfico\n",
    "plt.tight_layout()\n",
    "plt.show()"
   ]
  },
  {
   "cell_type": "markdown",
   "id": "67e28989",
   "metadata": {},
   "source": [
    "## 4. Modelagem e treinamento"
   ]
  },
  {
   "cell_type": "markdown",
   "id": "f2ee0a50",
   "metadata": {},
   "source": [
    "### 4.1 Aplicação do modelo 1: Regressão Linear para os gastos realizados pela prefeitura de Curitiba"
   ]
  },
  {
   "cell_type": "code",
   "execution_count": 42,
   "id": "37701e5d",
   "metadata": {},
   "outputs": [
    {
     "name": "stdout",
     "output_type": "stream",
     "text": [
      "          Data  Gastos Previstos\n",
      "4831   01/2023     158406.128641\n",
      "14411  01/2023     170053.571390\n",
      "21140  01/2023     215126.551606\n",
      "5028   01/2023     120659.380479\n",
      "25754  01/2023     173445.101685\n",
      "...        ...               ...\n",
      "14331  01/2023     170053.571390\n",
      "20408  01/2023      48791.660052\n",
      "21447  01/2023     215126.551606\n",
      "14656  01/2023     170053.571390\n",
      "18906  01/2023     202107.279398\n",
      "\n",
      "[2639 rows x 2 columns]\n",
      "RMSE= 2204619.5305759325\n",
      "R²= 0.004156757867812555\n"
     ]
    }
   ],
   "source": [
    "# Preparação dos dados para a análise de regressão:\n",
    "# X são as variáveis independentes\n",
    "# Y é a variável dependente que pretendemos prever (gastos totais)\n",
    "\n",
    "X = df_final[['ANO_EMPENHO', 'CD_FUNCAO', 'CD_PROGRAMA', 'CD_ORGAO']].copy()\n",
    "X['ANO_EMPENHO'] = pd.to_datetime(X['ANO_EMPENHO'], format='%Y')\n",
    "X['ANO_EMPENHO'] = X['ANO_EMPENHO'].dt.year\n",
    "y = df_final['VL_PAGO']\n",
    "\n",
    "# Segmentação em treinamento (40%), validação (30%) e teste (30%)\n",
    "X_train, X_temp, y_train, y_temp = train_test_split(X, y, test_size=0.4, random_state=42)\n",
    "X_val, X_test, y_val, y_test = train_test_split(X_temp, y_temp, test_size=0.5, random_state=42)\n",
    "                                                \n",
    "# Criando uma instância do modelo de regressão linear e treiná-lo\n",
    "model = LinearRegression()\n",
    "model.fit(X_train, y_train)\n",
    "\n",
    "# Mostrando os valores dos gastos totais previstos\n",
    "y_pred = model.predict(X_test)\n",
    "                                                \n",
    "# Convertendo o array de valores previstos em um DataFrame\n",
    "df_gastos_previstos = pd.DataFrame({'Data': X_test['ANO_EMPENHO'], 'Gastos Previstos': y_pred})\n",
    "\n",
    "# Convertendo a coluna 'Data' para o formato de data\n",
    "df_gastos_previstos['Data'] = pd.to_datetime(df_gastos_previstos['Data'], format='%Y').dt.strftime('%m/%Y')\n",
    "\n",
    "# Exibindo a tabela com os valores previstos\n",
    "print(df_gastos_previstos)\n",
    "                                                \n",
    "# Calculando a métrica de avaliação do modelo\n",
    "rmse = mean_squared_error(y_test, y_pred, squared=False)\n",
    "r2 = r2_score(y_test, y_pred)\n",
    "\n",
    "print('RMSE=', rmse)\n",
    "print('R²=', r2)"
   ]
  },
  {
   "cell_type": "markdown",
   "id": "2b7d76f6",
   "metadata": {},
   "source": [
    "### 4.2 Aplicação do modelo 2: Regressão de Árvore de Decisão para os gastos realizados pela prefeitura de Curitiba"
   ]
  },
  {
   "cell_type": "code",
   "execution_count": 43,
   "id": "86e2062b",
   "metadata": {},
   "outputs": [
    {
     "name": "stdout",
     "output_type": "stream",
     "text": [
      "          Data  Gastos Previstos\n",
      "4831   01/2023      45414.335727\n",
      "14411  01/2023     240632.430746\n",
      "21140  01/2023     235780.449722\n",
      "5028   01/2023      30618.133988\n",
      "25754  01/2023      49065.126774\n",
      "...        ...               ...\n",
      "14331  01/2023     240632.430746\n",
      "20408  01/2023     381141.275172\n",
      "21447  01/2023     235780.449722\n",
      "14656  01/2023     240632.430746\n",
      "18906  01/2023      19368.384375\n",
      "\n",
      "[2639 rows x 2 columns]\n",
      "RMSE= 1918693.6359854923\n",
      "R²= 0.2457159057847551\n"
     ]
    }
   ],
   "source": [
    "# Criando uma instância do modelo de regressão de árvore de decisão\n",
    "modelo_arvore_decisao = DecisionTreeRegressor()\n",
    "\n",
    "# Treinando o modelo\n",
    "modelo_arvore_decisao.fit(X_train, y_train)\n",
    "\n",
    "# Prevendo os valores dos gastos para o conjunto de teste\n",
    "y_pred_tree = modelo_arvore_decisao.predict(X_test)\n",
    "\n",
    "# Convertendo o array de valores previstos em um DataFrame\n",
    "df_gastos_previstos = pd.DataFrame({'Data': X_test['ANO_EMPENHO'], 'Gastos Previstos': y_pred_tree})\n",
    "\n",
    "# Convertendo a coluna 'Data' para o formato de data\n",
    "df_gastos_previstos['Data'] = pd.to_datetime(df_gastos_previstos['Data'], format='%Y').dt.strftime('%m/%Y')\n",
    "\n",
    "# Exibindo a tabela com os valores previstos\n",
    "print(df_gastos_previstos)\n",
    "\n",
    "# Calculando a métrica de avaliação do modelo\n",
    "rmse_tree = mean_squared_error(y_test, y_pred_tree, squared=False)\n",
    "r2_tree = r2_score(y_test, y_pred_tree)\n",
    "\n",
    "print('RMSE=', rmse_tree)\n",
    "print('R²=', r2_tree)"
   ]
  },
  {
   "cell_type": "markdown",
   "id": "e2d8fb91",
   "metadata": {},
   "source": [
    "### 4.3 Aplicação do modelo 3: Regressão de Floresta Aleatória para os gastos realizados pela prefeitura de Curitiba"
   ]
  },
  {
   "cell_type": "code",
   "execution_count": 44,
   "id": "ac704c64",
   "metadata": {
    "scrolled": true
   },
   "outputs": [
    {
     "name": "stderr",
     "output_type": "stream",
     "text": [
      "C:\\Users\\asche\\AppData\\Local\\Temp\\ipykernel_996\\4176465875.py:5: SettingWithCopyWarning: \n",
      "A value is trying to be set on a copy of a slice from a DataFrame.\n",
      "Try using .loc[row_indexer,col_indexer] = value instead\n",
      "\n",
      "See the caveats in the documentation: https://pandas.pydata.org/pandas-docs/stable/user_guide/indexing.html#returning-a-view-versus-a-copy\n",
      "  df_final.loc[:, 'ANO_EMPENHO'] = pd.to_datetime(df_final['ANO_EMPENHO']).dt.year.astype(int)\n"
     ]
    },
    {
     "name": "stdout",
     "output_type": "stream",
     "text": [
      "          Data  Gastos Previstos\n",
      "18527  01/2023      53344.452108\n",
      "20052  01/2023     129677.799132\n",
      "12138  01/2023       9123.947816\n",
      "32248  01/2023     371633.214138\n",
      "23353  01/2023     522637.001038\n",
      "...        ...               ...\n",
      "225    01/2023     146602.393435\n",
      "5881   01/2023       9123.947816\n",
      "5981   01/2023       9123.947816\n",
      "14775  01/2023     244993.083675\n",
      "26533  01/2023      33960.958579\n",
      "\n",
      "[2639 rows x 2 columns]\n",
      "RMSE: 2369252.9675477436\n",
      "R²: 0.15998636698505642\n"
     ]
    }
   ],
   "source": [
    "# Criando uma instância do modelo de regressão de floresta aleatória\n",
    "modelo_floresta_aleatoria = RandomForestRegressor()\n",
    "\n",
    "# Preparando os dados para a análise de regressão:\n",
    "df_final.loc[:, 'ANO_EMPENHO'] = pd.to_datetime(df_final['ANO_EMPENHO']).dt.year.astype(int)\n",
    "X = df_final[['ANO_EMPENHO', 'CD_FUNCAO', 'CD_PROGRAMA', 'CD_ORGAO']]\n",
    "y = df_final['VL_PAGO']\n",
    "\n",
    "# Dividindo o conjunto de dados em treino e teste\n",
    "X_train, X_test, y_train, y_test = train_test_split(X, y, test_size=0.2, random_state=42)\n",
    "\n",
    "# Treinando o modelo\n",
    "modelo_floresta_aleatoria.fit(X_train, y_train)\n",
    "\n",
    "# Prevendo os valores de gastos totais para o conjunto de teste\n",
    "gastos_previstos = modelo_floresta_aleatoria.predict(X_test)\n",
    "\n",
    "# Convertendo o array de valores previstos em um DataFrame\n",
    "df_gastos_previstos = pd.DataFrame({'Data': X_test['ANO_EMPENHO'], 'Gastos Previstos': gastos_previstos})\n",
    "\n",
    "# Convertendo a coluna 'Data' para o formato de data\n",
    "df_gastos_previstos['Data'] = pd.to_datetime(df_gastos_previstos['Data'], format='%Y').dt.strftime('%m/%Y')\n",
    "\n",
    "# Exibindo a tabela com os valores previstos\n",
    "print(df_gastos_previstos)\n",
    "\n",
    "# Calculando a métrica de avaliação do modelo\n",
    "rmse_forest = mean_squared_error(y_test, gastos_previstos, squared=False)\n",
    "r2_forest = r2_score(y_test, gastos_previstos)\n",
    "\n",
    "print('RMSE:', rmse_forest)\n",
    "print('R²:', r2_forest)"
   ]
  },
  {
   "cell_type": "markdown",
   "id": "8c366d02",
   "metadata": {},
   "source": [
    "## 5. Otimização do modelo"
   ]
  },
  {
   "cell_type": "markdown",
   "id": "fff42a13",
   "metadata": {},
   "source": [
    "### 5.1 Otimização do modelo de  Regressão Linear para os gastos realizados pela prefeitura de Curitiba"
   ]
  },
  {
   "cell_type": "code",
   "execution_count": 45,
   "id": "3da965a8",
   "metadata": {},
   "outputs": [
    {
     "name": "stdout",
     "output_type": "stream",
     "text": [
      "          Data  Gastos Previstos\n",
      "5006   01/2023      42009.193359\n",
      "10729  01/2023       9813.281250\n",
      "28631  01/2023      59066.191406\n",
      "21762  01/2023     262554.267578\n",
      "7883   01/2023       9813.281250\n",
      "...        ...               ...\n",
      "32591  01/2023      83275.703125\n",
      "7207   01/2023      29549.335938\n",
      "22656  01/2023      59066.191406\n",
      "17475  01/2023     262554.267578\n",
      "1079   01/2023      -5243.974609\n",
      "\n",
      "[1980 rows x 2 columns]\n",
      "RMSE= 1908760.8792225574\n",
      "R²= 0.0952758388879218\n"
     ]
    }
   ],
   "source": [
    "# Convertendo as colunas categóricas em variáveis dummy\n",
    "X_var_convertidas = pd.get_dummies(X, columns=['CD_FUNCAO', 'CD_PROGRAMA', 'CD_ORGAO'])\n",
    "\n",
    "y = df_final['VL_PAGO']\n",
    "\n",
    "# Segmentação em treinamento (70%), validação (15%) e teste (15%)\n",
    "X_train, X_temp, y_train, y_temp = train_test_split(X_var_convertidas, y, test_size=0.3, random_state=42)\n",
    "X_val, X_test, y_val, y_test = train_test_split(X_temp, y_temp, test_size=0.5, random_state=42)\n",
    "\n",
    "# Definição dos valores a serem testados para o hiperparâmetro\n",
    "hiperparametros_grid = {'fit_intercept': [True, False]}\n",
    "\n",
    "# Criando uma instância do modelo de regressão linear\n",
    "modelo = LinearRegression()\n",
    "\n",
    "# Criando uma instância do GridSearchCV\n",
    "hiperparametros_otimizados = GridSearchCV(model, hiperparametros_grid, scoring='neg_mean_squared_error', cv=5)\n",
    "\n",
    "# Executando a busca em grade para encontrar a melhor combinação de hiperparâmetros\n",
    "hiperparametros_otimizados.fit(X_train, y_train)\n",
    "\n",
    "# Salvando o melhor modelo\n",
    "melhor_modelo = hiperparametros_otimizados.best_estimator_\n",
    "\n",
    "# Mostrando os valores dos gastos previstos com o melhor modelo\n",
    "y_pred = melhor_modelo.predict(X_test)\n",
    "\n",
    "# Convertendo o array de valores previstos em um DataFrame\n",
    "df_gastos_previstos = pd.DataFrame({'Data': X_test['ANO_EMPENHO'], 'Gastos Previstos': y_pred})\n",
    "\n",
    "# Convertendo a coluna 'Data' para o formato de data\n",
    "df_gastos_previstos['Data'] = pd.to_datetime(df_gastos_previstos['Data'], format='%Y').dt.strftime('%m/%Y')\n",
    "\n",
    "# Exibindo a tabela com os valores previstos\n",
    "print(df_gastos_previstos)\n",
    "\n",
    "# Calculando a métrica de avaliação do modelo\n",
    "rmse = mean_squared_error(y_test, y_pred, squared=False)\n",
    "r2 = r2_score(y_test, y_pred)\n",
    "\n",
    "print('RMSE=', rmse)\n",
    "print('R²=', r2)"
   ]
  },
  {
   "cell_type": "markdown",
   "id": "74b6492f",
   "metadata": {},
   "source": [
    "### 5.2 Otimização do modelo de Regressão de Árvore de Decisão para os gastos realizados pela prefeitura de Curitiba"
   ]
  },
  {
   "cell_type": "code",
   "execution_count": 46,
   "id": "0676b0d6",
   "metadata": {},
   "outputs": [
    {
     "name": "stdout",
     "output_type": "stream",
     "text": [
      "          Data  Gastos Previstos\n",
      "5006   01/2023      42009.193359\n",
      "10729  01/2023       9813.281250\n",
      "28631  01/2023      59066.191406\n",
      "21762  01/2023     262554.267578\n",
      "7883   01/2023       9813.281250\n",
      "...        ...               ...\n",
      "32591  01/2023      83275.703125\n",
      "7207   01/2023      29549.335938\n",
      "22656  01/2023      59066.191406\n",
      "17475  01/2023     262554.267578\n",
      "1079   01/2023      -5243.974609\n",
      "\n",
      "[1980 rows x 2 columns]\n",
      "RMSE = 1579918.2928718063\n",
      "R² = 0.3801560125909752\n"
     ]
    }
   ],
   "source": [
    "# Segmentação em treinamento (70%), validação (15%) e teste (15%)\n",
    "X_train_tree, X_temp_tree, y_train_tree, y_temp_tree = train_test_split(X_var_convertidas, y, test_size=0.3, random_state=42)\n",
    "X_val_tree, X_test_tree, y_val_tree, y_test_tree = train_test_split(X_temp_tree, y_temp_tree, test_size=0.5, random_state=42)\n",
    "\n",
    "# Definição dos valores a serem testados para o hiperparâmetro\n",
    "hiperparametros_random = {'max_depth': [None, 5, 10, 15],\n",
    "                               'min_samples_split': randint(2, 11),\n",
    "                               'min_samples_leaf': randint(1, 5)}\n",
    "\n",
    "# Criando uma instância do modelo de regressão de árvore de decisão\n",
    "modelo_arvore_decisao = DecisionTreeRegressor()\n",
    "\n",
    "# Criando uma instância do RandomizedSearchCV\n",
    "random_search = RandomizedSearchCV(modelo_arvore_decisao, hiperparametros_random, scoring='neg_mean_squared_error', cv=5)\n",
    "\n",
    "# Executando a busca aleatória para encontrar a melhor combinação de hiperparâmetros\n",
    "random_search.fit(X_train_tree, y_train_tree)\n",
    "\n",
    "# Obtendo o melhor modelo com os hiperparâmetros otimizados\n",
    "melhor_modelo_arvore_decisao = random_search.best_estimator_\n",
    "\n",
    "# Prevendo os valores dos gastos para o conjunto de teste com o melhor modelo\n",
    "y_pred_tree = melhor_modelo_arvore_decisao.predict(X_test_tree)\n",
    "\n",
    "# Convertendo o array de valores previstos em um DataFrame\n",
    "#df_gastos_previstos_tree = pd.DataFrame({'Data': X_test_tree['ANO_EMPENHO'], 'Gastos Previstos': y_pred_tree})\n",
    "\n",
    "# Convertendo a coluna 'Data' para o formato de data\n",
    "#df_gastos_previstos_tree['Data'] = pd.to_datetime(df_gastos_previstos_tree['Data'], format='%Y').dt.strftime('%m/%Y')\n",
    "\n",
    "# Exibindo a tabela com os valores previstos\n",
    "print(df_gastos_previstos)\n",
    "\n",
    "# Calculando a métrica de avaliação do modelo\n",
    "rmse_tree = mean_squared_error(y_test_tree, y_pred_tree, squared=False)\n",
    "r2_tree = r2_score(y_test_tree, y_pred_tree)\n",
    "\n",
    "print('RMSE =', rmse_tree)\n",
    "print('R² =', r2_tree)"
   ]
  },
  {
   "cell_type": "markdown",
   "id": "81317313",
   "metadata": {},
   "source": [
    "## 6. Conclusão"
   ]
  },
  {
   "cell_type": "markdown",
   "id": "5709519c",
   "metadata": {},
   "source": [
    "O presente projeto teve como objetivo principal analisar os gastos públicos para a prefeitura de Curitiba, por meio de técnicas de Machine Learning, Big Data e Análise Exploratória dos dados, visando fornecer insights e suporte para a tomada de decisão e benefícios significativos para a sociedade.\n",
    "\n",
    "Com base na análise exploratória dos dados apresentada no tópico 3 deste trabalho, foi possível evidenciar as cinco principais funções, programas e órgãos que recebem investimentos da prefeitura de Curitiba durante o período de 01/02/2023 a 28/04/2023. Dessa forma, o estudo possibilitou identificar as áreas que recebem mais investimentos, sendo elas: Saúde (34,8%), Previdência Social (31,2%), Educação (18,3%), Administração (8,2%) e Encargos Especiais (7,6%).\n",
    "\n",
    "Em relação aos programas, destacaram-se o Programa Viva Curitiba Transparente (35,8%), Programa Viva Curitiba Saudável (31,3%), Programa Viva Curitiba Cidadã (20,2%), Programa de Operações Especiais (6,8%) e Programa Viva Curitiba Mais Ágil (6%).\n",
    "Quanto aos órgãos, os principais beneficiados foram o Fundo Municipal da Saúde (35,9%), Instituto de Previdência dos Servidores do Município de Curitiba (21,8%), Secretaria Municipal da Educação (18,9%), Secretaria Municipal de Administração e Gestão de Pessoal (15,2%) e Encargos Pessoais (8,2%).\n",
    "\n",
    "Através da análise estatística descritiva dos dados, foi possível também extrair informações relevantes para o projeto, como os valores mínimo, máximo, média e desvio padrão dos pagamentos realizados. Além disso, os quartis foram úteis para identificar a faixa de valores em que a maioria dos gastos se concentra.\n",
    "\n",
    "No tópico 3.3, foram aplicadas técnicas de Big Data para a análise dos gastos públicos da prefeitura de Curitiba. Através da coleta, processamento e análise de grandes volumes de dados, foram identificados insights relevantes. A aplicação do Big Data trouxe resultados promissores, indicando o potencial dessa abordagem para o desenvolvimento de estratégias mais eficazes na administração municipal.\n",
    "\n",
    "Ao utilizar modelos de regressão linear e de árvore de decisão otimizados nos tópicos 4 e 5, foi possível obter resultados promissores na previsão dos gastos públicos. A aplicação dessas técnicas permitiu uma compreensão mais profunda dos padrões de gastos da prefeitura, identificando fatores relevantes que influenciam os gastos e fornecendo insights valiosos para a administração pública.\n",
    "\n",
    "Os resultados obtidos demonstraram que, apesar dos desafios inerentes à natureza complexa e volátil dos gastos públicos, é viável obter modelos com certo nível de acurácia em previsões. A otimização desses modelos trouxe melhorias significativas nas métricas de avaliação, tais como a redução do erro médio quadrático (RMSE) e o aumento do coeficiente de determinação (R²). Nesse contexto, o Modelo de Regressão de Árvore de Decisão otimizado, apresentado na Figura 10 deste trabalho, emerge como a opção recomendada entre os modelos analisados para a previsão dos gastos realizados pela prefeitura de Curitiba, pois demonstra um ajuste mais preciso aos dados e uma maior capacidade de explicar a variabilidade dos gastos.\n",
    "\n",
    "Esses resultados têm implicações práticas significativas para a gestão financeira da prefeitura de Curitiba. Com base nas previsões geradas pelos modelos, a administração pública pode tomar decisões mais embasadas, alocar recursos de forma mais eficiente e otimizar os gastos, visando o melhor atendimento às necessidades da sociedade. Além disso, o suporte fornecido pelo projeto permite uma análise mais criteriosa dos gastos passados e uma projeção mais precisa dos gastos futuros, contribuindo para a tomada de decisões estratégicas e informadas.\n",
    "\n",
    "O impacto social do projeto é notável, pois a análise detalhada dos gastos públicos permite a alocação adequada de recursos em áreas, programas e órgãos essenciais, como saúde e educação, melhorando a qualidade dos serviços prestados à comunidade. Além disso, a utilização de técnicas avançadas, como Machine Learning e Big Data, impulsiona a administração pública para uma abordagem mais inteligente e inovadora na tomada de decisões, acompanhando as tendências tecnológicas e promovendo o desenvolvimento sustentável da cidade.\n",
    "\n",
    "Portanto, considerando os benefícios trazidos pelo projeto, o impacto social positivo gerado e os resultados promissores obtidos na análise dos gastos públicos da prefeitura de Curitiba, concluímos que a utilização de técnicas de Big Data, Machine Learning e Análise Exploratória de dados representam um aliado importante para aprimorar a eficiência e transparência da administração pública. Os insights e previsões fornecidos pelos modelos otimizados possibilitam uma tomada de decisão embasada e orientada por dados, impulsionando o progresso da cidade e beneficiando diretamente a sociedade curitibana. Recomenda-se continuar explorando e investindo em projetos similares, visando a expansão e aprimoramento dessa abordagem em outras áreas de gestão pública."
   ]
  }
 ],
 "metadata": {
  "kernelspec": {
   "display_name": "Python 3 (ipykernel)",
   "language": "python",
   "name": "python3"
  },
  "language_info": {
   "codemirror_mode": {
    "name": "ipython",
    "version": 3
   },
   "file_extension": ".py",
   "mimetype": "text/x-python",
   "name": "python",
   "nbconvert_exporter": "python",
   "pygments_lexer": "ipython3",
   "version": "3.10.9"
  }
 },
 "nbformat": 4,
 "nbformat_minor": 5
}
